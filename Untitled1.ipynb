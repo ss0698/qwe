{
 "cells": [
  {
   "cell_type": "code",
   "execution_count": null,
   "metadata": {
    "collapsed": true
   },
   "outputs": [],
   "source": [
    "photo assignment\n"
   ]
  },
  {
   "cell_type": "code",
   "execution_count": null,
   "metadata": {
    "collapsed": true
   },
   "outputs": [],
   "source": [
    "to find square root"
   ]
  },
  {
   "cell_type": "code",
   "execution_count": 3,
   "metadata": {},
   "outputs": [
    {
     "name": "stdout",
     "output_type": "stream",
     "text": [
      "4\n",
      "2.0\n"
     ]
    }
   ],
   "source": [
    "a=int(input())\n",
    "a=math.pow(a,0.5)\n",
    "print(a)\n"
   ]
  },
  {
   "cell_type": "code",
   "execution_count": null,
   "metadata": {
    "collapsed": true
   },
   "outputs": [],
   "source": [
    "to calculate area of triangle\n"
   ]
  },
  {
   "cell_type": "code",
   "execution_count": 5,
   "metadata": {},
   "outputs": [
    {
     "name": "stdout",
     "output_type": "stream",
     "text": [
      "height6\n",
      "base3\n",
      "9.0\n"
     ]
    }
   ],
   "source": [
    "a=int(input(\"height\"))\n",
    "b=int(input(\"base\"))\n",
    "\n",
    "a=a*b/2\n",
    "print(a)"
   ]
  },
  {
   "cell_type": "code",
   "execution_count": null,
   "metadata": {
    "collapsed": true
   },
   "outputs": [],
   "source": [
    "solve quadractic equation\n"
   ]
  },
  {
   "cell_type": "code",
   "execution_count": 11,
   "metadata": {},
   "outputs": [
    {
     "name": "stdout",
     "output_type": "stream",
     "text": [
      "enter coeff of x23\n",
      "enter coeff of x0\n",
      "enter coeff of -27\n",
      "-3.0 and 3.0\n"
     ]
    }
   ],
   "source": [
    "a=int(input(\"enter coeff of x2\"))\n",
    "b=int(input(\"enter coeff of x\"))\n",
    "c=int(input(\"enter coeff of \"))\n",
    "l=(b**2)-4*a*c\n",
    "d=l**0.5\n",
    "e=(b-d)/(2)\n",
    "f=(b+d)/(2)\n",
    "print(e/a,\"and\",f/a)"
   ]
  },
  {
   "cell_type": "code",
   "execution_count": null,
   "metadata": {
    "collapsed": true
   },
   "outputs": [],
   "source": [
    "generate random no"
   ]
  },
  {
   "cell_type": "code",
   "execution_count": 20,
   "metadata": {},
   "outputs": [
    {
     "name": "stdout",
     "output_type": "stream",
     "text": [
      "429\n"
     ]
    }
   ],
   "source": [
    "from random import randrange\n",
    "\n",
    "g=randrange(1,1000)\n",
    "print(g)"
   ]
  },
  {
   "cell_type": "code",
   "execution_count": null,
   "metadata": {
    "collapsed": true
   },
   "outputs": [],
   "source": [
    "conert km to mile"
   ]
  },
  {
   "cell_type": "code",
   "execution_count": 25,
   "metadata": {},
   "outputs": [
    {
     "name": "stdout",
     "output_type": "stream",
     "text": [
      "enter km3.2\n",
      "2.0 mile\n"
     ]
    }
   ],
   "source": [
    "a=float(input(\"enter km\"))\n",
    "a=(1/1.6)*a\n",
    "print(a,\"mile\")"
   ]
  },
  {
   "cell_type": "code",
   "execution_count": 26,
   "metadata": {},
   "outputs": [
    {
     "ename": "SyntaxError",
     "evalue": "invalid syntax (<ipython-input-26-91b5d557b501>, line 1)",
     "output_type": "error",
     "traceback": [
      "\u001b[1;36m  File \u001b[1;32m\"<ipython-input-26-91b5d557b501>\"\u001b[1;36m, line \u001b[1;32m1\u001b[0m\n\u001b[1;33m    cel to Far temp wala\u001b[0m\n\u001b[1;37m         ^\u001b[0m\n\u001b[1;31mSyntaxError\u001b[0m\u001b[1;31m:\u001b[0m invalid syntax\n"
     ]
    }
   ],
   "source": [
    "cel to Far temp wala  \n"
   ]
  },
  {
   "cell_type": "code",
   "execution_count": 31,
   "metadata": {},
   "outputs": [
    {
     "name": "stdout",
     "output_type": "stream",
     "text": [
      "enter C38\n",
      "100.4\n"
     ]
    }
   ],
   "source": [
    "a=float(input(\"enter C\"))\n",
    "a=(1.8*a) +32\n",
    "print(a)\n"
   ]
  },
  {
   "cell_type": "code",
   "execution_count": 1,
   "metadata": {},
   "outputs": [
    {
     "name": "stdout",
     "output_type": "stream",
     "text": [
      "enter no-0.9\n",
      "-\n"
     ]
    }
   ],
   "source": [
    "a=a=float(input(\"enter no\"))\n",
    "if(a>0):print(\"+\")\n",
    "elif(a==0):print(\"=0\")\n",
    "else:print(\"-\")"
   ]
  },
  {
   "cell_type": "code",
   "execution_count": null,
   "metadata": {},
   "outputs": [],
   "source": [
    "vovwel"
   ]
  },
  {
   "cell_type": "code",
   "execution_count": null,
   "metadata": {},
   "outputs": [],
   "source": [
    "string=input(\"Enter string:\")\n",
    "vowels=0\n",
    "for i in string:\n",
    "      if(i=='a' or i=='e' or i=='i' or i=='o' or i=='u' or i=='A' or i=='E' or i=='I' or i=='O' or i=='U'):\n",
    "            vowels=vowels+1\n",
    "print(\"Number of vowels are:\")\n",
    "print(vowels)"
   ]
  },
  {
   "cell_type": "code",
   "execution_count": null,
   "metadata": {
    "collapsed": true
   },
   "outputs": [],
   "source": [
    "to sort words in python"
   ]
  },
  {
   "cell_type": "code",
   "execution_count": 6,
   "metadata": {},
   "outputs": [
    {
     "name": "stdout",
     "output_type": "stream",
     "text": [
      "qwe re ee\n",
      "ee\n",
      "qwe\n",
      "re\n"
     ]
    }
   ],
   "source": [
    "\n",
    "str =input()\n",
    "\n",
    "words = str.split()\n",
    "\n",
    "\n",
    "words.sort()\n",
    "\n",
    "for word in words:\n",
    "   print(word)"
   ]
  },
  {
   "cell_type": "markdown",
   "metadata": {},
   "source": [
    "# OR"
   ]
  },
  {
   "cell_type": "code",
   "execution_count": 9,
   "metadata": {},
   "outputs": [
    {
     "name": "stdout",
     "output_type": "stream",
     "text": [
      "qwe re ee\n",
      "ee qwe re\n"
     ]
    }
   ],
   "source": [
    "str =input()\n",
    "words = str.split()\n",
    "words.sort()\n",
    "print(\" \".join(words))"
   ]
  },
  {
   "cell_type": "markdown",
   "metadata": {},
   "source": [
    "# check leap year\n"
   ]
  },
  {
   "cell_type": "code",
   "execution_count": 16,
   "metadata": {},
   "outputs": [
    {
     "name": "stdout",
     "output_type": "stream",
     "text": [
      "2016\n",
      "true\n"
     ]
    }
   ],
   "source": [
    "a=int(input())\n",
    "if(a%400==0 ):\n",
    "     print(\"true\")\n",
    "elif(a%100==0):\n",
    "     print(\"false\")\n",
    "elif(a%4==0):\n",
    "     print(\"true\")\n",
    "else:print(\"false\")"
   ]
  },
  {
   "cell_type": "code",
   "execution_count": null,
   "metadata": {
    "collapsed": true
   },
   "outputs": [],
   "source": [
    "largest among numbers\n"
   ]
  },
  {
   "cell_type": "code",
   "execution_count": 20,
   "metadata": {},
   "outputs": [
    {
     "name": "stdout",
     "output_type": "stream",
     "text": [
      "enter number of input5\n",
      "6\n",
      "8\n",
      "34\n",
      "2222\n",
      "2\n",
      "2222\n"
     ]
    }
   ],
   "source": [
    "a=int(input(\"enter number of input\"))\n",
    "l=[]\n",
    "for i in range(1,a+1):\n",
    "    l.append(int(input()))\n",
    "l.sort()\n",
    "print(l[-1],\"is the max number\")"
   ]
  },
  {
   "cell_type": "markdown",
   "metadata": {},
   "source": [
    "# program to check prime number\n"
   ]
  },
  {
   "cell_type": "code",
   "execution_count": 3,
   "metadata": {},
   "outputs": [
    {
     "name": "stdout",
     "output_type": "stream",
     "text": [
      "enter the number4\n",
      "3\n",
      "n prime\n"
     ]
    }
   ],
   "source": [
    "a=int(input(\"enter the number\"))\n",
    "b=a**0.5\n",
    "b=int(b)+1\n",
    "print(b)\n",
    "i=2\n",
    "while i<=b:\n",
    "    \n",
    "    if(a%i==0):\n",
    "            print(\"n prime\")\n",
    "            break\n",
    "    elif(i==b or a<=3):\n",
    "            print(\" prime\") \n",
    "            \n",
    "            \n",
    "    i=i+1"
   ]
  },
  {
   "cell_type": "code",
   "execution_count": 3,
   "metadata": {},
   "outputs": [
    {
     "name": "stdout",
     "output_type": "stream",
     "text": [
      "lower limit10\n",
      "higher limit100\n",
      "10 n prime\n",
      "11  prime\n",
      "12 n prime\n",
      "13  prime\n",
      "14 n prime\n",
      "15 n prime\n",
      "16 n prime\n",
      "17  prime\n",
      "18 n prime\n",
      "19  prime\n",
      "20 n prime\n",
      "21 n prime\n",
      "22 n prime\n",
      "23  prime\n",
      "24 n prime\n",
      "25 n prime\n",
      "26 n prime\n",
      "27 n prime\n",
      "28 n prime\n",
      "29  prime\n",
      "30 n prime\n",
      "31  prime\n",
      "32 n prime\n",
      "33 n prime\n",
      "34 n prime\n",
      "35 n prime\n",
      "36 n prime\n",
      "37  prime\n",
      "38 n prime\n",
      "39 n prime\n",
      "40 n prime\n",
      "41  prime\n",
      "42 n prime\n",
      "43  prime\n",
      "44 n prime\n",
      "45 n prime\n",
      "46 n prime\n",
      "47  prime\n",
      "48 n prime\n",
      "49 n prime\n",
      "50 n prime\n",
      "51 n prime\n",
      "52 n prime\n",
      "53  prime\n",
      "54 n prime\n",
      "55 n prime\n",
      "56 n prime\n",
      "57 n prime\n",
      "58 n prime\n",
      "59  prime\n",
      "60 n prime\n",
      "61  prime\n",
      "62 n prime\n",
      "63 n prime\n",
      "64 n prime\n",
      "65 n prime\n",
      "66 n prime\n",
      "67  prime\n",
      "68 n prime\n",
      "69 n prime\n",
      "70 n prime\n",
      "71  prime\n",
      "72 n prime\n",
      "73  prime\n",
      "74 n prime\n",
      "75 n prime\n",
      "76 n prime\n",
      "77 n prime\n",
      "78 n prime\n",
      "79  prime\n",
      "80 n prime\n",
      "81 n prime\n",
      "82 n prime\n",
      "83  prime\n",
      "84 n prime\n",
      "85 n prime\n",
      "86 n prime\n",
      "87 n prime\n",
      "88 n prime\n",
      "89  prime\n",
      "90 n prime\n",
      "91 n prime\n",
      "92 n prime\n",
      "93 n prime\n",
      "94 n prime\n",
      "95 n prime\n",
      "96 n prime\n",
      "97  prime\n",
      "98 n prime\n",
      "99 n prime\n",
      "100 n prime\n"
     ]
    }
   ],
   "source": [
    "a=int(input(\"lower limit\"))\n",
    "h=int(input(\"higher limit\"))\n",
    "while a<=h:\n",
    "    \n",
    "    b=a**0.5\n",
    "    b=int(b)+1\n",
    "    \n",
    "    i=2\n",
    "    while i<=b:\n",
    "    \n",
    "        if(a%i==0):\n",
    "            print(a,\"n prime\")\n",
    "            break\n",
    "        elif(i==b or a<=3):\n",
    "            print(a,\" prime\") \n",
    "            \n",
    "            \n",
    "        i=i+1\n",
    "    a=a+1"
   ]
  },
  {
   "cell_type": "markdown",
   "metadata": {},
   "source": [
    "### "
   ]
  },
  {
   "cell_type": "code",
   "execution_count": 6,
   "metadata": {},
   "outputs": [
    {
     "data": {
      "text/plain": [
       "720"
      ]
     },
     "execution_count": 6,
     "metadata": {},
     "output_type": "execute_result"
    }
   ],
   "source": [
    "def factorial(n):\n",
    "   \n",
    "    if n == 1:\n",
    "         return n\n",
    "    else:\n",
    "         return n*factorial(n-1)\n",
    "\n",
    "factorial(6)\n",
    "  "
   ]
  },
  {
   "cell_type": "code",
   "execution_count": null,
   "metadata": {},
   "outputs": [
    {
     "name": "stdout",
     "output_type": "stream",
     "text": [
      "enter the no5\n"
     ]
    }
   ],
   "source": [
    "a=int(input(\"enter the no\"))\n",
    "i=1\n",
    "\n",
    "while i<=a:\n",
    "    s=1\n",
    "    e=2   \n",
    "    d=s+e\n",
    "    s,e=e,s\n",
    "     \n",
    "print(d)\n"
   ]
  },
  {
   "cell_type": "code",
   "execution_count": 7,
   "metadata": {},
   "outputs": [
    {
     "name": "stdout",
     "output_type": "stream",
     "text": [
      "5\n",
      "0\n",
      "1\n",
      "1\n",
      "2\n",
      "3\n"
     ]
    }
   ],
   "source": [
    "def recur_fibo(n):\n",
    "   \n",
    "    if n <= 1:\n",
    "        return n\n",
    "    else:\n",
    "        return(recur_fibo(n-1) + recur_fibo(n-2))\n",
    "    \n",
    "n=int(input())\n",
    "\n",
    "for i in range(n):\n",
    "       print(recur_fibo(i))"
   ]
  },
  {
   "cell_type": "markdown",
   "metadata": {},
   "source": [
    "# sum of natural numbers"
   ]
  },
  {
   "cell_type": "code",
   "execution_count": 11,
   "metadata": {},
   "outputs": [
    {
     "data": {
      "text/plain": [
       "3"
      ]
     },
     "execution_count": 11,
     "metadata": {},
     "output_type": "execute_result"
    }
   ],
   "source": [
    "def sum(n):\n",
    "    if n==1 :\n",
    "        return n\n",
    "    else:   \n",
    "        return(n + sum(n-1))\n",
    "sum(2)"
   ]
  },
  {
   "cell_type": "code",
   "execution_count": 16,
   "metadata": {},
   "outputs": [
    {
     "name": "stdout",
     "output_type": "stream",
     "text": [
      "0b10 in binary.\n",
      "0o2 in octal.\n",
      "0x2 in hexadecimal.\n"
     ]
    }
   ],
   "source": [
    "#dec to (binary ,octal,hex) \n",
    "a = 2\n",
    "\n",
    "\n",
    "print(bin(a),\"in binary.\")\n",
    "print(oct(a),\"in octal.\")\n",
    "print(hex(a),\"in hexadecimal.\")"
   ]
  },
  {
   "cell_type": "markdown",
   "metadata": {},
   "source": [
    "# ord() function to convert a character to an integer (ASCII value)."
   ]
  },
  {
   "cell_type": "code",
   "execution_count": 18,
   "metadata": {},
   "outputs": [
    {
     "name": "stdout",
     "output_type": "stream",
     "text": [
      "A\n",
      "65\n"
     ]
    }
   ],
   "source": [
    "a=input()\n",
    "a=ord(a)\n",
    "print(a)"
   ]
  },
  {
   "cell_type": "markdown",
   "metadata": {},
   "source": [
    "# hcf or gcd"
   ]
  },
  {
   "cell_type": "code",
   "execution_count": 12,
   "metadata": {},
   "outputs": [
    {
     "name": "stdout",
     "output_type": "stream",
     "text": [
      "18\n",
      "24\n",
      "72.0\n"
     ]
    },
    {
     "data": {
      "text/plain": [
       "6"
      ]
     },
     "execution_count": 12,
     "metadata": {},
     "output_type": "execute_result"
    }
   ],
   "source": [
    "def hcf(a,b):\n",
    "\n",
    "\n",
    "    if a > b:\n",
    "        smaller = b\n",
    "    else:\n",
    "        smaller = a\n",
    "    for i in range(1, smaller+1):\n",
    "        if((a % i == 0) and (b % i == 0)):\n",
    "            hcf = i\n",
    "    print(n1*n2/hcf)        \n",
    "    return hcf\n",
    "    \n",
    "n1=int(input())\n",
    "n2=int(input())\n",
    "hcf(n1,n2)\n"
   ]
  },
  {
   "cell_type": "markdown",
   "metadata": {},
   "source": [
    "# lcm to do"
   ]
  },
  {
   "cell_type": "code",
   "execution_count": 80,
   "metadata": {},
   "outputs": [
    {
     "ename": "SyntaxError",
     "evalue": "invalid syntax (<ipython-input-80-b9e470e41866>, line 6)",
     "output_type": "error",
     "traceback": [
      "\u001b[1;36m  File \u001b[1;32m\"<ipython-input-80-b9e470e41866>\"\u001b[1;36m, line \u001b[1;32m6\u001b[0m\n\u001b[1;33m    if((a % b == 0):\u001b[0m\n\u001b[1;37m                   ^\u001b[0m\n\u001b[1;31mSyntaxError\u001b[0m\u001b[1;31m:\u001b[0m invalid syntax\n"
     ]
    }
   ],
   "source": [
    "def lcm(a,b):\n",
    "    if a > b:\n",
    "        smaller = b\n",
    "    \n",
    "        for i in range(1, smaller+1):\n",
    "            if((a % b == 0):\n",
    "            lcm = i\n",
    "    else:\n",
    "        smaller = a\n",
    "        for i in range(1, smaller+1):\n",
    "            if((b % a == 0):\n",
    "            lcm = i\n",
    "lcm(2.8)"
   ]
  },
  {
   "cell_type": "markdown",
   "metadata": {},
   "source": [
    "# factors of a number\n"
   ]
  },
  {
   "cell_type": "code",
   "execution_count": 14,
   "metadata": {},
   "outputs": [
    {
     "name": "stdout",
     "output_type": "stream",
     "text": [
      "56\n",
      "1 is a factor\n",
      "2 is a factor\n",
      "4 is a factor\n",
      "7 is a factor\n",
      "8 is a factor\n",
      "14 is a factor\n",
      "28 is a factor\n",
      "56 is a factor\n"
     ]
    }
   ],
   "source": [
    "a=int(input())\n",
    "for i in range(1,a+1):\n",
    "    if(a%i==0):\n",
    "        print(i,\"is a factor\")\n"
   ]
  },
  {
   "cell_type": "markdown",
   "metadata": {},
   "source": [
    "# decimal to binary using recursion"
   ]
  },
  {
   "cell_type": "code",
   "execution_count": 20,
   "metadata": {},
   "outputs": [
    {
     "name": "stdout",
     "output_type": "stream",
     "text": [
      "00010"
     ]
    }
   ],
   "source": [
    "\n",
    "def bin(n):\n",
    "    if(n>1):\n",
    "            bin(n//2)\n",
    "            print(n%2,end = '')\n",
    "bin(34)"
   ]
  },
  {
   "cell_type": "markdown",
   "metadata": {},
   "source": [
    "# calender"
   ]
  },
  {
   "cell_type": "code",
   "execution_count": 30,
   "metadata": {},
   "outputs": [
    {
     "name": "stdout",
     "output_type": "stream",
     "text": [
      "     June 2018\n",
      "Mo Tu We Th Fr Sa Su\n",
      "             1  2  3\n",
      " 4  5  6  7  8  9 10\n",
      "11 12 13 14 15 16 17\n",
      "18 19 20 21 22 23 24\n",
      "25 26 27 28 29 30\n",
      "\n"
     ]
    }
   ],
   "source": [
    "import calendar\n",
    "\n",
    "year = 2018\n",
    "month = 6\n",
    "print(calendar.month(year, month))"
   ]
  },
  {
   "cell_type": "markdown",
   "metadata": {},
   "source": [
    "# to add two matrices"
   ]
  },
  {
   "cell_type": "code",
   "execution_count": 31,
   "metadata": {},
   "outputs": [
    {
     "name": "stdout",
     "output_type": "stream",
     "text": [
      "[17, 15, 4]\n",
      "[10, 12, 9]\n",
      "[11, 13, 18]\n"
     ]
    }
   ],
   "source": [
    "X = [[15,16,17],\n",
    "    [41 ,55,0],\n",
    "    [4 ,85,97]]\n",
    "\n",
    "Y = [[2,9,11],\n",
    "    [6,5,34],\n",
    "    [8,2,95]]\n",
    "\n",
    "result = [[0,0,0],\n",
    "         [0,0,0],\n",
    "         [0,0,0]]\n",
    "\n",
    "for i in range(len(X)):\n",
    "   \n",
    "   for j in range(len(X[0])):\n",
    "        result[i][j] = X[i][j] + Y[i][j]\n",
    "\n",
    "for r in result:\n",
    "    print(r)"
   ]
  },
  {
   "cell_type": "code",
   "execution_count": null,
   "metadata": {
    "collapsed": true
   },
   "outputs": [],
   "source": [
    "trasnpose matrix"
   ]
  },
  {
   "cell_type": "code",
   "execution_count": 37,
   "metadata": {},
   "outputs": [
    {
     "name": "stdout",
     "output_type": "stream",
     "text": [
      "[12, 4, 7]\n",
      "[7, 5, 8]\n",
      "[3, 6, 9]\n"
     ]
    }
   ],
   "source": [
    "X = [[15,16,17],\n",
    "    [41 ,55,0],\n",
    "    [4 ,85,97]]\n",
    "\n",
    "\n",
    "\n",
    "A = [[0,0,0],\n",
    "    [0,0,0],\n",
    "    [0,0,0]]\n",
    "\n",
    "for i in range(len(X)):\n",
    "   \n",
    "   for j in range(len(X[0])):\n",
    "   \n",
    "       A[j][i] = X[i][j] \n",
    "\n",
    "for r in A:\n",
    "   print(r)"
   ]
  },
  {
   "cell_type": "code",
   "execution_count": null,
   "metadata": {
    "collapsed": true
   },
   "outputs": [],
   "source": [
    "multiply to matrix"
   ]
  },
  {
   "cell_type": "code",
   "execution_count": 38,
   "metadata": {},
   "outputs": [
    {
     "name": "stdout",
     "output_type": "stream",
     "text": [
      "[114, 160, 60]\n",
      "[74, 97, 73]\n",
      "[119, 157, 112]\n"
     ]
    }
   ],
   "source": [
    "X = [[15,16,17],\n",
    "    [41 ,55,0],\n",
    "    [4 ,85,97]]\n",
    "\n",
    "Y = [[2,9,11],\n",
    "    [6,5,34],\n",
    "    [8,2,95]]\n",
    "\n",
    "result = [[0,0,0],\n",
    "         [0,0,0],\n",
    "         [0,0,0]]\n",
    "\n",
    "for i in range(len(X)):\n",
    "   \n",
    "   for j in range(len(X[0])):\n",
    "        for a in range(len(Y)):\n",
    "            result[i][j] += X[i][a] * Y[a][j]\n",
    "\n",
    "for r in result:\n",
    "    print(r)"
   ]
  },
  {
   "cell_type": "code",
   "execution_count": null,
   "metadata": {
    "collapsed": true
   },
   "outputs": [],
   "source": [
    "palindrome"
   ]
  },
  {
   "cell_type": "code",
   "execution_count": 50,
   "metadata": {},
   "outputs": [
    {
     "name": "stdout",
     "output_type": "stream",
     "text": [
      "Enter string:malayalam\n",
      "The string is a palindrome\n"
     ]
    }
   ],
   "source": [
    "string=input(\"Enter string:\")\n",
    "if(string==string[::-1]):\n",
    "      print(\"The string is a palindrome\")\n",
    "else:\n",
    "      print(\"The string isn't a palindrome\")"
   ]
  },
  {
   "cell_type": "markdown",
   "metadata": {},
   "source": [
    "# or by using reversed be careful we need to compare with list"
   ]
  },
  {
   "cell_type": "code",
   "execution_count": 59,
   "metadata": {},
   "outputs": [
    {
     "name": "stdout",
     "output_type": "stream",
     "text": [
      "Enter string:qee\n",
      "<reversed object at 0x00000150128032E8>\n",
      "The string isn't a palindrome\n"
     ]
    }
   ],
   "source": [
    "string=input(\"Enter string:\")\n",
    "rev=reversed(string)\n",
    "print(rev)\n",
    "if(list(string)==list(rev)):\n",
    "      print(\"The string is a palindrome\")\n",
    "else:\n",
    "      print(\"The string isn't a palindrome\")"
   ]
  },
  {
   "cell_type": "markdown",
   "metadata": {},
   "source": [
    "# random walk"
   ]
  },
  {
   "cell_type": "code",
   "execution_count": 79,
   "metadata": {
    "scrolled": true
   },
   "outputs": [
    {
     "name": "stdout",
     "output_type": "stream",
     "text": [
      "5\n",
      "-4\n",
      "9 total distance travelled\n",
      "6.4031242374328485 is the shortest distance from home\n"
     ]
    }
   ],
   "source": [
    "from random import randrange\n",
    "\n",
    "x=randrange(-10,11)\n",
    "print(x)\n",
    "y=randrange(-10,11)\n",
    "print(y)\n",
    "dist_trav=abs(x)+abs(y)\n",
    "print(dist_trav,\"total distance travelled\")\n",
    "shortest_distance=(abs(x**2)+abs(y**2))**0.5\n",
    "print(shortest_distance,\"is the shortest distance from home\")"
   ]
  },
  {
   "cell_type": "code",
   "execution_count": 82,
   "metadata": {},
   "outputs": [
    {
     "ename": "NameError",
     "evalue": "name 'xrange' is not defined",
     "output_type": "error",
     "traceback": [
      "\u001b[1;31m---------------------------------------------------------------------------\u001b[0m",
      "\u001b[1;31mNameError\u001b[0m                                 Traceback (most recent call last)",
      "\u001b[1;32m<ipython-input-82-d40f6f6d12cf>\u001b[0m in \u001b[0;36m<module>\u001b[1;34m()\u001b[0m\n\u001b[0;32m      1\u001b[0m \u001b[0mprimelist\u001b[0m \u001b[1;33m=\u001b[0m \u001b[1;32mlambda\u001b[0m \u001b[0mn\u001b[0m \u001b[1;33m:\u001b[0m \u001b[1;33m[\u001b[0m\u001b[0mx\u001b[0m \u001b[1;32mfor\u001b[0m \u001b[0mx\u001b[0m \u001b[1;32min\u001b[0m \u001b[0mxrange\u001b[0m\u001b[1;33m(\u001b[0m\u001b[1;36m2\u001b[0m\u001b[1;33m,\u001b[0m \u001b[0mn\u001b[0m\u001b[1;33m)\u001b[0m \u001b[1;32mif\u001b[0m \u001b[1;32mnot\u001b[0m \u001b[1;36m0\u001b[0m \u001b[1;32min\u001b[0m \u001b[0mmap\u001b[0m\u001b[1;33m(\u001b[0m\u001b[1;32mlambda\u001b[0m \u001b[0mz\u001b[0m \u001b[1;33m:\u001b[0m \u001b[0mx\u001b[0m \u001b[1;33m%\u001b[0m \u001b[0mz\u001b[0m\u001b[1;33m,\u001b[0m \u001b[0mxrange\u001b[0m\u001b[1;33m(\u001b[0m\u001b[1;36m2\u001b[0m\u001b[1;33m,\u001b[0m\u001b[0mx\u001b[0m\u001b[1;33m)\u001b[0m\u001b[1;33m)\u001b[0m\u001b[1;33m]\u001b[0m\u001b[1;33m\u001b[0m\u001b[0m\n\u001b[0;32m      2\u001b[0m \u001b[1;33m\u001b[0m\u001b[0m\n\u001b[1;32m----> 3\u001b[1;33m \u001b[0mprint\u001b[0m\u001b[1;33m(\u001b[0m \u001b[1;34m\",\"\u001b[0m\u001b[1;33m.\u001b[0m\u001b[0mjoin\u001b[0m\u001b[1;33m(\u001b[0m\u001b[0mmap\u001b[0m\u001b[1;33m(\u001b[0m\u001b[0mstr\u001b[0m\u001b[1;33m,\u001b[0m \u001b[0mprimelist\u001b[0m\u001b[1;33m(\u001b[0m\u001b[1;36m100\u001b[0m\u001b[1;33m)\u001b[0m\u001b[1;33m)\u001b[0m\u001b[1;33m)\u001b[0m\u001b[1;33m)\u001b[0m\u001b[1;33m\u001b[0m\u001b[0m\n\u001b[0m",
      "\u001b[1;32m<ipython-input-82-d40f6f6d12cf>\u001b[0m in \u001b[0;36m<lambda>\u001b[1;34m(n)\u001b[0m\n\u001b[1;32m----> 1\u001b[1;33m \u001b[0mprimelist\u001b[0m \u001b[1;33m=\u001b[0m \u001b[1;32mlambda\u001b[0m \u001b[0mn\u001b[0m \u001b[1;33m:\u001b[0m \u001b[1;33m[\u001b[0m\u001b[0mx\u001b[0m \u001b[1;32mfor\u001b[0m \u001b[0mx\u001b[0m \u001b[1;32min\u001b[0m \u001b[0mxrange\u001b[0m\u001b[1;33m(\u001b[0m\u001b[1;36m2\u001b[0m\u001b[1;33m,\u001b[0m \u001b[0mn\u001b[0m\u001b[1;33m)\u001b[0m \u001b[1;32mif\u001b[0m \u001b[1;32mnot\u001b[0m \u001b[1;36m0\u001b[0m \u001b[1;32min\u001b[0m \u001b[0mmap\u001b[0m\u001b[1;33m(\u001b[0m\u001b[1;32mlambda\u001b[0m \u001b[0mz\u001b[0m \u001b[1;33m:\u001b[0m \u001b[0mx\u001b[0m \u001b[1;33m%\u001b[0m \u001b[0mz\u001b[0m\u001b[1;33m,\u001b[0m \u001b[0mxrange\u001b[0m\u001b[1;33m(\u001b[0m\u001b[1;36m2\u001b[0m\u001b[1;33m,\u001b[0m\u001b[0mx\u001b[0m\u001b[1;33m)\u001b[0m\u001b[1;33m)\u001b[0m\u001b[1;33m]\u001b[0m\u001b[1;33m\u001b[0m\u001b[0m\n\u001b[0m\u001b[0;32m      2\u001b[0m \u001b[1;33m\u001b[0m\u001b[0m\n\u001b[0;32m      3\u001b[0m \u001b[0mprint\u001b[0m\u001b[1;33m(\u001b[0m \u001b[1;34m\",\"\u001b[0m\u001b[1;33m.\u001b[0m\u001b[0mjoin\u001b[0m\u001b[1;33m(\u001b[0m\u001b[0mmap\u001b[0m\u001b[1;33m(\u001b[0m\u001b[0mstr\u001b[0m\u001b[1;33m,\u001b[0m \u001b[0mprimelist\u001b[0m\u001b[1;33m(\u001b[0m\u001b[1;36m100\u001b[0m\u001b[1;33m)\u001b[0m\u001b[1;33m)\u001b[0m\u001b[1;33m)\u001b[0m\u001b[1;33m)\u001b[0m\u001b[1;33m\u001b[0m\u001b[0m\n",
      "\u001b[1;31mNameError\u001b[0m: name 'xrange' is not defined"
     ]
    }
   ],
   "source": [
    "primelist = lambda n : [x for x in xrange(2, n) if not 0 in map(lambda z : x % z, xrange(2,x))]\n",
    "\n",
    "print( \",\".join(map(str, primelist(100))))"
   ]
  },
  {
   "cell_type": "code",
   "execution_count": 85,
   "metadata": {},
   "outputs": [],
   "source": [
    "import math\n",
    "is_prime = lambda x: all(x % y != 0 for y in range(2,int(math.sqrt(x)) + 1))\n",
    "\n",
    "\n",
    "\n",
    "primes = [x for x in range(30) if is_prime(x) == True]"
   ]
  },
  {
   "cell_type": "code",
   "execution_count": null,
   "metadata": {
    "collapsed": true
   },
   "outputs": [],
   "source": []
  }
 ],
 "metadata": {
  "kernelspec": {
   "display_name": "Python 3",
   "language": "python",
   "name": "python3"
  },
  "language_info": {
   "codemirror_mode": {
    "name": "ipython",
    "version": 3
   },
   "file_extension": ".py",
   "mimetype": "text/x-python",
   "name": "python",
   "nbconvert_exporter": "python",
   "pygments_lexer": "ipython3",
   "version": "3.6.3"
  }
 },
 "nbformat": 4,
 "nbformat_minor": 2
}
