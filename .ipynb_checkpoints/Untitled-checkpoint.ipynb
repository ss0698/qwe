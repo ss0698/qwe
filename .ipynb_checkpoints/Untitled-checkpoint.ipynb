{
 "cells": [
  {
   "cell_type": "code",
   "execution_count": 90,
   "metadata": {},
   "outputs": [
    {
     "name": "stdout",
     "output_type": "stream",
     "text": [
      "1\n",
      "12\n",
      "123\n",
      "1234\n",
      "12345\n"
     ]
    }
   ],
   "source": [
    "for i in range (1,6):  \n",
    "    for j in range (1,i+1):  \n",
    "        print(j,end='') \n",
    "    print(\"\")\n",
    "\n",
    "    \n",
    "    \n",
    "        "
   ]
  },
  {
   "cell_type": "code",
   "execution_count": 63,
   "metadata": {},
   "outputs": [
    {
     "name": "stdout",
     "output_type": "stream",
     "text": [
      "*\n",
      "**\n",
      "***\n",
      "****\n",
      "*****\n"
     ]
    }
   ],
   "source": [
    "for i in range (1,6):  \n",
    "    for j in range (1,i+1):  \n",
    "        print(\"*\",end='') \n",
    "    \n",
    "    print(\"\")\n"
   ]
  },
  {
   "cell_type": "code",
   "execution_count": 64,
   "metadata": {},
   "outputs": [
    {
     "name": "stdout",
     "output_type": "stream",
     "text": [
      "1\n",
      "21\n",
      "321\n",
      "4321\n",
      "54321\n",
      "654321\n",
      "7654321\n",
      "87654321\n"
     ]
    }
   ],
   "source": [
    "for i in range(1, 8 + 1):\n",
    "    for j in range(i, 0, -1):\n",
    "        print(j,end='')\n",
    "    print(\"\")\n",
    "    \n"
   ]
  },
  {
   "cell_type": "code",
   "execution_count": null,
   "metadata": {
    "collapsed": true
   },
   "outputs": [],
   "source": [
    "for i in range(1,8):\n",
    "    for j in range(i,0,-1):\n",
    "        print(i,end='')\n",
    "    print(\"\")"
   ]
  },
  {
   "cell_type": "code",
   "execution_count": null,
   "metadata": {
    "collapsed": true
   },
   "outputs": [],
   "source": [
    "for i in range(1,8):\n",
    "  for j in range(8,i,-1):\n",
    "        print(i,end='')\n",
    "  print(\"\")"
   ]
  },
  {
   "cell_type": "markdown",
   "metadata": {},
   "source": [
    "# 31 operators\n",
    "binary\n",
    "unary\n",
    "\n",
    "\n",
    "1) arthematic operators  (  + -  / *  %   //(floor division)   **(exponent)  )\n",
    "\n",
    "2) comparison(< > <= >=)\n",
    "                                               PRIORITY\n",
    "                                               | ARTH HIGHEST\n",
    "                                               | MEMBERSHIP LOWEST\n",
    "3) logical\n",
    "\n",
    "4) assignment'binary\n",
    "\n",
    "5}identity\n",
    "\n",
    "6) membership"
   ]
  },
  {
   "cell_type": "markdown",
   "metadata": {},
   "source": [
    "# arthematic"
   ]
  },
  {
   "cell_type": "code",
   "execution_count": null,
   "metadata": {
    "collapsed": true
   },
   "outputs": [],
   "source": [
    "x=45\n",
    "y=55\n",
    "\n",
    "print(x+y)\n",
    "print(x-y)\n",
    "print(x/y)\n",
    "print(x*y)"
   ]
  },
  {
   "cell_type": "code",
   "execution_count": null,
   "metadata": {
    "collapsed": true
   },
   "outputs": [],
   "source": [
    "l1=[1,2,3]\n",
    "l2=[4,5,6]\n",
    "print(l1+l2)"
   ]
  },
  {
   "cell_type": "code",
   "execution_count": null,
   "metadata": {
    "collapsed": true
   },
   "outputs": [],
   "source": [
    "t1=(1,2,3)\n",
    "t2=(4,5,6)\n",
    "print(t1+t2)"
   ]
  },
  {
   "cell_type": "code",
   "execution_count": null,
   "metadata": {
    "collapsed": true
   },
   "outputs": [],
   "source": [
    "#dictionary main addition not applicaple\n",
    "#set main bhi addition not applicab;e\n",
    "# dict set are non sequential type so these cant be added"
   ]
  },
  {
   "cell_type": "code",
   "execution_count": null,
   "metadata": {
    "collapsed": true
   },
   "outputs": [],
   "source": [
    "#subtractio also similar like adition but sub camt be used in strings alse and in list and tuple also it wont work.............."
   ]
  },
  {
   "cell_type": "code",
   "execution_count": null,
   "metadata": {
    "collapsed": true
   },
   "outputs": [],
   "source": [
    "#multiplacation        ->>>in int it will work \n",
    "                        ->>>>str*str mult not allowed but str*int is allowed\n",
    "                       ->>>>>>>>> list and tuple also follow same rule as string above\n",
    "                               try dict set(waise wont work)"
   ]
  },
  {
   "cell_type": "markdown",
   "metadata": {},
   "source": [
    "# division\n"
   ]
  },
  {
   "cell_type": "code",
   "execution_count": null,
   "metadata": {
    "collapsed": true
   },
   "outputs": [],
   "source": [
    "x=53\n",
    "y=12\n",
    "print(x/y)   #python always givesa n absolute value\n",
    "print(x%y)\n",
    "print(x//y)"
   ]
  },
  {
   "cell_type": "code",
   "execution_count": null,
   "metadata": {
    "collapsed": true
   },
   "outputs": [],
   "source": [
    "#exponent\n",
    "\n",
    "x=5\n",
    "y=3\n",
    "print(x**y)  #5 ki power 3"
   ]
  },
  {
   "cell_type": "markdown",
   "metadata": {},
   "source": [
    "# COMPARISION OPERATOR(< <= > >=  !=  ==)  ALL PRIORITY IS SAME\n",
    "\n",
    "\n",
    "STRING LIST TUPLE KO LENGTH SE COMAPARE HOGA\n",
    "LEKIN DICT KO NO OF KEYS SE COMPARE HOGA\n",
    "\n",
    "WE GET ALLA ANSWER IN TRUE AND FALSE"
   ]
  },
  {
   "cell_type": "markdown",
   "metadata": {},
   "source": [
    "# LOGICAL OPERATORS\n",
    "and or not (caplital not allowed)  \n",
    "THE AABOVE DONT HAVE SYMBOLS WE SIMPLY WRITE and or not"
   ]
  },
  {
   "cell_type": "code",
   "execution_count": null,
   "metadata": {
    "collapsed": true
   },
   "outputs": [],
   "source": [
    "print(not True)\n",
    "print(0 and 6<5)  ####True is correct   true is not correct\n",
    "## whenever 0 comes o/p is 0 in and\n",
    "print(1 and 6<5)\n",
    "print(0 or 6<5)"
   ]
  },
  {
   "cell_type": "code",
   "execution_count": null,
   "metadata": {
    "collapsed": true
   },
   "outputs": [],
   "source": [
    "print (6 and 7 )"
   ]
  },
  {
   "cell_type": "code",
   "execution_count": null,
   "metadata": {
    "collapsed": true
   },
   "outputs": [],
   "source": [
    "print(1 and None)"
   ]
  },
  {
   "cell_type": "code",
   "execution_count": null,
   "metadata": {
    "collapsed": true
   },
   "outputs": [],
   "source": [
    "print ( [1,2,3] and [3,4,5] )"
   ]
  },
  {
   "cell_type": "markdown",
   "metadata": {},
   "source": [
    "# ASSIGNMENT OPERATOR"
   ]
  },
  {
   "cell_type": "code",
   "execution_count": null,
   "metadata": {
    "collapsed": true
   },
   "outputs": [],
   "source": [
    "k=(( ( 6*5/2 ) and (6<4 or 3>6)) or (10/2*3-1))\n",
    "print(k)"
   ]
  },
  {
   "cell_type": "markdown",
   "metadata": {},
   "source": [
    "# membership operator \n",
    "\n",
    " # in ,not in\n",
    "\n"
   ]
  },
  {
   "cell_type": "code",
   "execution_count": null,
   "metadata": {
    "collapsed": true
   },
   "outputs": [],
   "source": [
    "s= \"dog is an animal\"\n",
    "k=\"dog\" in s\n",
    "z=\"cat\" in s\n",
    "print(k)\n",
    "print(z)"
   ]
  },
  {
   "cell_type": "code",
   "execution_count": null,
   "metadata": {
    "collapsed": true
   },
   "outputs": [],
   "source": [
    "s=\"dog is animal\"\n",
    "s1=\"dog\"\n",
    "\n",
    "p=s1 not in s\n",
    "print(p)"
   ]
  },
  {
   "cell_type": "markdown",
   "metadata": {},
   "source": [
    "# use in list\n"
   ]
  },
  {
   "cell_type": "code",
   "execution_count": null,
   "metadata": {
    "collapsed": true
   },
   "outputs": [],
   "source": [
    "l1=[1,2,3,4]\n",
    "l2=[3,4]\n",
    "\n",
    "k=l2 in l1\n",
    "print(k)"
   ]
  },
  {
   "cell_type": "code",
   "execution_count": null,
   "metadata": {
    "collapsed": true
   },
   "outputs": [],
   "source": [
    "l1=[1,2,[3,4]]\n",
    "l2=[3,4]\n",
    "k=l2 in l1\n",
    "print(k)"
   ]
  },
  {
   "cell_type": "code",
   "execution_count": null,
   "metadata": {
    "collapsed": true
   },
   "outputs": [],
   "source": [
    "l=[1,2,3,4,5,6,7,5656,5666665,555432]\n",
    "if int(input(\"Enter a number  \")) in l :\n",
    "    print(\"yes\")\n",
    "else :\n",
    "    print(\"no\")        "
   ]
  },
  {
   "cell_type": "markdown",
   "metadata": {},
   "source": [
    "# secret input from python\n",
    "\n",
    "from getpass import getpass"
   ]
  },
  {
   "cell_type": "code",
   "execution_count": null,
   "metadata": {
    "collapsed": true
   },
   "outputs": [],
   "source": [
    "from getpass import getpass\n",
    "p1 = getpass(\"player 1\")\n",
    "p2 = getpass(\"player 2\")\n",
    "\n",
    "print(p1)\n",
    "print(p2)\n",
    "\n",
    "if((p1==\"r\" and p2==\"s\") or (p1==\"s\" and p2==\"p\") or (p1==\"p\" and p2==\"r\")  ) :\n",
    "    print(\"p1 wins\")\n",
    "    \n",
    "elif(p1==p2):\n",
    "    print(\"tie\")\n",
    "else:\n",
    "    print(\"p2 wins\")"
   ]
  },
  {
   "cell_type": "code",
   "execution_count": null,
   "metadata": {
    "collapsed": true
   },
   "outputs": [],
   "source": [
    "l1=[('r','s'),('p','r'),('s','p')  ]\n",
    "\n",
    "from getpass import getpass\n",
    "p1 = getpass(\"player 1\")\n",
    "p2 = getpass(\"player 2\")\n",
    "print(p1)\n",
    "print(p2)\n",
    "\n",
    "if((p1,p2) in l1) :\n",
    "    print (\"1 wins\")\n",
    "elif(p1==p2) :\n",
    "    print(\"tie\")\n",
    "else :\n",
    "   print(\"2 wins\")"
   ]
  },
  {
   "cell_type": "markdown",
   "metadata": {
    "collapsed": true
   },
   "source": [
    "# if u want to play with the computer"
   ]
  },
  {
   "cell_type": "code",
   "execution_count": 13,
   "metadata": {},
   "outputs": [
    {
     "ename": "TypeError",
     "evalue": "'str' object is not callable",
     "output_type": "error",
     "traceback": [
      "\u001b[1;31m---------------------------------------------------------------------------\u001b[0m",
      "\u001b[1;31mTypeError\u001b[0m                                 Traceback (most recent call last)",
      "\u001b[1;32m<ipython-input-13-a1863ad1e104>\u001b[0m in \u001b[0;36m<module>\u001b[1;34m()\u001b[0m\n\u001b[0;32m      2\u001b[0m \u001b[1;32mfrom\u001b[0m \u001b[0mrandom\u001b[0m \u001b[1;32mimport\u001b[0m \u001b[0mchoice\u001b[0m\u001b[1;33m\u001b[0m\u001b[0m\n\u001b[0;32m      3\u001b[0m \u001b[1;32mfrom\u001b[0m \u001b[0mgetpass\u001b[0m \u001b[1;32mimport\u001b[0m \u001b[0mgetpass\u001b[0m\u001b[1;33m\u001b[0m\u001b[0m\n\u001b[1;32m----> 4\u001b[1;33m \u001b[0mp1\u001b[0m \u001b[1;33m=\u001b[0m \u001b[0mchoice\u001b[0m\u001b[1;33m(\u001b[0m\u001b[1;33m[\u001b[0m\u001b[1;34m'r'\u001b[0m\u001b[1;33m,\u001b[0m\u001b[1;34m'p'\u001b[0m\u001b[1;33m,\u001b[0m\u001b[1;34m's'\u001b[0m\u001b[1;33m]\u001b[0m\u001b[1;33m)\u001b[0m\u001b[1;33m(\u001b[0m\u001b[1;34m\"player 1\"\u001b[0m\u001b[1;33m)\u001b[0m\u001b[1;33m\u001b[0m\u001b[0m\n\u001b[0m\u001b[0;32m      5\u001b[0m \u001b[0mp2\u001b[0m \u001b[1;33m=\u001b[0m \u001b[0mgetpass\u001b[0m\u001b[1;33m(\u001b[0m\u001b[1;34m\"player 2\"\u001b[0m\u001b[1;33m)\u001b[0m\u001b[1;33m\u001b[0m\u001b[0m\n\u001b[0;32m      6\u001b[0m \u001b[0mprint\u001b[0m\u001b[1;33m(\u001b[0m\u001b[0mp1\u001b[0m\u001b[1;33m)\u001b[0m\u001b[1;33m\u001b[0m\u001b[0m\n",
      "\u001b[1;31mTypeError\u001b[0m: 'str' object is not callable"
     ]
    }
   ],
   "source": [
    "l1=[('r','s'),('p','r'),('s','p')  ]\n",
    "from random import choice\n",
    "from getpass import getpass\n",
    "p1 = getpass(\"player 1\")\n",
    "p2 = getpass(\"player 2\")\n",
    "print(p1)\n",
    "print(p2)\n",
    "\n",
    "if((p1,p2) in l1) :\n",
    "    print (\"1 wins\")\n",
    "elif(p1==p2) :\n",
    "    print(\"tie\")\n",
    "else :\n",
    "   print(\"2 wins\")"
   ]
  },
  {
   "cell_type": "markdown",
   "metadata": {},
   "source": [
    "# identity operator\n",
    "# is or is not\n"
   ]
  },
  {
   "cell_type": "code",
   "execution_count": null,
   "metadata": {
    "collapsed": true
   },
   "outputs": [],
   "source": [
    "x=5\n",
    "y=5\n",
    "print(x is y)\n",
    "print(x is not y)\n"
   ]
  },
  {
   "cell_type": "markdown",
   "metadata": {},
   "source": [
    "# binary operator not used in python that much"
   ]
  },
  {
   "cell_type": "code",
   "execution_count": null,
   "metadata": {
    "collapsed": true
   },
   "outputs": [],
   "source": []
  },
  {
   "cell_type": "code",
   "execution_count": null,
   "metadata": {
    "collapsed": true
   },
   "outputs": [],
   "source": []
  },
  {
   "cell_type": "code",
   "execution_count": null,
   "metadata": {
    "collapsed": true
   },
   "outputs": [],
   "source": []
  },
  {
   "cell_type": "code",
   "execution_count": null,
   "metadata": {
    "collapsed": true
   },
   "outputs": [],
   "source": []
  },
  {
   "cell_type": "code",
   "execution_count": null,
   "metadata": {
    "collapsed": true
   },
   "outputs": [],
   "source": []
  },
  {
   "cell_type": "markdown",
   "metadata": {},
   "source": [
    "# control statements\n",
    "   if else \n",
    "   nested "
   ]
  },
  {
   "cell_type": "code",
   "execution_count": null,
   "metadata": {
    "collapsed": true
   },
   "outputs": [],
   "source": [
    "a=8\n",
    "\n",
    "if (a % 2 == 0) :\n",
    "  print(\"even\")\n",
    "\n",
    "else:\n",
    "    print(\"odd\")"
   ]
  },
  {
   "cell_type": "markdown",
   "metadata": {},
   "source": [
    "# in python we use elif instead of else if\n",
    "\n"
   ]
  },
  {
   "cell_type": "code",
   "execution_count": null,
   "metadata": {
    "collapsed": true
   },
   "outputs": [],
   "source": [
    "a=input()\n",
    "b=input()\n",
    "\n",
    "c=input()\n",
    "\n",
    "if(a>=b and a>=c) :\n",
    "     print(a)\n",
    "elif(b>=a and b>=c):\n",
    "    print(b)\n",
    "\n",
    "elif(c>=a and c>=b): \n",
    "    print(c)\n",
    "        \n",
    "\n",
    "        "
   ]
  },
  {
   "cell_type": "code",
   "execution_count": null,
   "metadata": {
    "collapsed": true
   },
   "outputs": [],
   "source": [
    "a=input()\n",
    "b=input()\n",
    "\n",
    "\n",
    "\n",
    "if(a==b or a==\"o\" or ((a==\"a\" or a==\"b\") and b==\"ab\" )) :\n",
    "     print(\"can donate\")\n",
    "        \n",
    "#elif(a==b or a==\"o\" or (a==\"b\" and b==\"ab\") ) :\n",
    " #    print(\"can donate\")\n",
    "        \n",
    "#elif(a==b or a==\"o\" ) :\n",
    " #    print(\"can donate\")\n",
    "\n",
    "        \n",
    "else: \n",
    "     print(\"can not donate\")\n",
    "        "
   ]
  },
  {
   "cell_type": "code",
   "execution_count": null,
   "metadata": {
    "collapsed": true
   },
   "outputs": [],
   "source": []
  },
  {
   "cell_type": "code",
   "execution_count": null,
   "metadata": {
    "collapsed": true
   },
   "outputs": [],
   "source": []
  },
  {
   "cell_type": "code",
   "execution_count": null,
   "metadata": {
    "collapsed": true
   },
   "outputs": [],
   "source": []
  },
  {
   "cell_type": "code",
   "execution_count": null,
   "metadata": {
    "collapsed": true
   },
   "outputs": [],
   "source": []
  },
  {
   "cell_type": "markdown",
   "metadata": {},
   "source": [
    "# loops \n",
    "# for \n",
    "# while"
   ]
  },
  {
   "cell_type": "code",
   "execution_count": 1,
   "metadata": {},
   "outputs": [
    {
     "name": "stdout",
     "output_type": "stream",
     "text": [
      "h\n",
      "h\n",
      "h\n",
      "h\n",
      "h\n",
      "h\n",
      "h\n",
      "h\n",
      "h\n"
     ]
    }
   ],
   "source": [
    "c=1\n",
    "while c< 10 :\n",
    "    print(\"h\")\n",
    "    c = c + 1"
   ]
  },
  {
   "cell_type": "code",
   "execution_count": 6,
   "metadata": {},
   "outputs": [
    {
     "name": "stdout",
     "output_type": "stream",
     "text": [
      "1,2,3,4,5,6,7,8,9,10,"
     ]
    }
   ],
   "source": [
    "c=1\n",
    "while c<=10 :\n",
    "    print(c,end=\",\")\n",
    "    c=c+1\n"
   ]
  },
  {
   "cell_type": "code",
   "execution_count": 7,
   "metadata": {},
   "outputs": [
    {
     "name": "stdout",
     "output_type": "stream",
     "text": [
      "10\t9\t8\t7\t6\t5\t4\t3\t2\t1\t"
     ]
    }
   ],
   "source": [
    "c=10\n",
    "while c>=1 :\n",
    "    print(c,end=\",\")\n",
    "    c=c-1"
   ]
  },
  {
   "cell_type": "markdown",
   "metadata": {},
   "source": [
    "# if u want print in same line then write print(c,end=\",\")   and '\\t' print in 5 spaces"
   ]
  },
  {
   "cell_type": "code",
   "execution_count": 8,
   "metadata": {},
   "outputs": [
    {
     "name": "stdout",
     "output_type": "stream",
     "text": [
      "10\t9\t8\t7\t6\t5\t4\t3\t2\t1\t"
     ]
    }
   ],
   "source": [
    "c=10\n",
    "while c>=1 :\n",
    "    print(c,end=\"\\t\")   # and '\\t' print in 5 spaces\n",
    "    c=c-1"
   ]
  },
  {
   "cell_type": "code",
   "execution_count": 23,
   "metadata": {},
   "outputs": [
    {
     "name": "stdout",
     "output_type": "stream",
     "text": [
      "4\n",
      "4\n",
      "8\n",
      "12\n",
      "16\n",
      "20\n",
      "24\n",
      "28\n",
      "32\n",
      "36\n",
      "40\n"
     ]
    }
   ],
   "source": [
    "d=int(input())\n",
    "c=1\n",
    "while c<=10 :\n",
    "   print(c*d)\n",
    "   c=c+1"
   ]
  },
  {
   "cell_type": "code",
   "execution_count": null,
   "metadata": {
    "collapsed": true
   },
   "outputs": [],
   "source": [
    "d=int(input())\n",
    "c=1\n",
    "while c<=10 :\n",
    "    print(\"                                         \") see from notes :"
   ]
  },
  {
   "cell_type": "code",
   "execution_count": 25,
   "metadata": {},
   "outputs": [
    {
     "name": "stdout",
     "output_type": "stream",
     "text": [
      "3\n",
      "3\n",
      "6\n",
      "9\n",
      "12\n",
      "15\n",
      "18\n",
      "21\n",
      "24\n",
      "27\n",
      "30\n"
     ]
    }
   ],
   "source": [
    "s=0\n",
    "num = int(input())\n",
    "t=1\n",
    "while t<= 10 :\n",
    "    s=s+num\n",
    "    print(s)\n",
    "    t=t+1"
   ]
  },
  {
   "cell_type": "code",
   "execution_count": 3,
   "metadata": {},
   "outputs": [
    {
     "name": "stdout",
     "output_type": "stream",
     "text": [
      "5050\n"
     ]
    }
   ],
   "source": [
    "t=0\n",
    "\n",
    "i=0\n",
    "while i<=100:\n",
    "    t=i+t\n",
    "    \n",
    "    i=i+1\n",
    "   \n",
    "print(t)"
   ]
  },
  {
   "cell_type": "code",
   "execution_count": 3,
   "metadata": {},
   "outputs": [
    {
     "ename": "IndentationError",
     "evalue": "unexpected indent (<ipython-input-3-1d7633d50076>, line 6)",
     "output_type": "error",
     "traceback": [
      "\u001b[1;36m  File \u001b[1;32m\"<ipython-input-3-1d7633d50076>\"\u001b[1;36m, line \u001b[1;32m6\u001b[0m\n\u001b[1;33m    while c<=5 :\u001b[0m\n\u001b[1;37m    ^\u001b[0m\n\u001b[1;31mIndentationError\u001b[0m\u001b[1;31m:\u001b[0m unexpected indent\n"
     ]
    }
   ],
   "source": [
    "from random import randrange\n",
    "\n",
    "while True :\n",
    "   c=1\n",
    "cg=randrange(1,50)\n",
    "        while c<=5 :\n",
    "        ug=int(input(\"enter ur no\")\n",
    "        if(ug<1 and ug>50):\n",
    "           print(\"out of range\")\n",
    "           continue\n",
    "        else :\n",
    "            if(ug<cg):\n",
    "                print(\"thimk big\")\n",
    "            elif(cg>ug):\n",
    "                print(\"think slow\")\n",
    "            else:\n",
    "                print (\"correct\")\n",
    "                break\n",
    "        if c==5:\n",
    "            print(\"computer guess ()\".format(cg))\n",
    "            print(\"loser\")\n",
    "        c=c+1\n",
    "        ch=input(\"play again\")\n",
    "        if ch=='y'\n",
    "         continue\n",
    "        else \n",
    "         break\n",
    "        \n",
    "\n"
   ]
  },
  {
   "cell_type": "code",
   "execution_count": null,
   "metadata": {
    "collapsed": true
   },
   "outputs": [],
   "source": [
    "from random import randrange\n",
    "\n",
    "while True :\n",
    "    c = 1 \n",
    "    cg=randrange(1,50) \n",
    "    while c < 5 :\n",
    "            ug=int(input(\"enter ur no\"))\n",
    "            if ug<1 or ug>50 :\n",
    "                print(\"out of range\")\n",
    "                continue\n",
    "            else : \n",
    "                if ug<cg :\n",
    "                    print(\"thimk big\")\n",
    "                elif ug>cg :\n",
    "                    print(\"think slow\")\n",
    "                else:\n",
    "                    print (\"correct\")\n",
    "                    break\n",
    "            \n",
    "            c=c+1\n",
    "    print(\"computer guess \",cg)\n",
    "    print(\"loser\")\n",
    "            \n",
    "    \n",
    "    \n",
    "    b=input(\"play again\")\n",
    "    if b=='y':\n",
    "                continue\n",
    "    else :\n",
    "                break3\n",
    "            "
   ]
  },
  {
   "cell_type": "markdown",
   "metadata": {
    "collapsed": true
   },
   "source": [
    "##### "
   ]
  },
  {
   "cell_type": "markdown",
   "metadata": {
    "collapsed": true
   },
   "source": [
    "# "
   ]
  },
  {
   "cell_type": "code",
   "execution_count": null,
   "metadata": {
    "collapsed": true
   },
   "outputs": [],
   "source": [
    "number = int(input(\"enter\"))\n",
    "\n",
    "i=2\n",
    "\n",
    "if number > 1:\n",
    "\n",
    "    while i < number :\n",
    "        if (number % i) == 0:\n",
    "            print(number,\" not a prime number\")\n",
    "            break\n",
    "        else:\n",
    "            print(number,\"is a prime number\")\n",
    "              break\n",
    "\n",
    "\n",
    "else:\n",
    "     print(number,\"is not a prime number\")"
   ]
  },
  {
   "cell_type": "markdown",
   "metadata": {
    "collapsed": true
   },
   "source": [
    "## "
   ]
  },
  {
   "cell_type": "code",
   "execution_count": 3,
   "metadata": {},
   "outputs": [
    {
     "name": "stdout",
     "output_type": "stream",
     "text": [
      "enter20\n",
      "2  not a prime number\n",
      "3 is a prime number\n",
      "4  not a prime number\n",
      "5 is a prime number\n",
      "6  not a prime number\n",
      "7 is a prime number\n",
      "8  not a prime number\n",
      "9 is a prime number\n",
      "10  not a prime number\n",
      "11 is a prime number\n",
      "12  not a prime number\n",
      "13 is a prime number\n",
      "14  not a prime number\n",
      "15 is a prime number\n",
      "16  not a prime number\n",
      "17 is a prime number\n",
      "18  not a prime number\n",
      "19 is a prime number\n"
     ]
    }
   ],
   "source": [
    "number = int(input(\"enter\"))\n",
    "\n",
    "i=2\n",
    "\n",
    "if number > 1:\n",
    "\n",
    "    while i < number :\n",
    "        if (j % i) == 0:\n",
    "            print(i,\" not a prime number\")\n",
    "            \n",
    "        else:\n",
    "            print(i,\"is a prime number\")\n",
    "            \n",
    "        i=i+1\n",
    "\n",
    "else:\n",
    "     print(number,\"is not a prime number\")"
   ]
  },
  {
   "cell_type": "code",
   "execution_count": 10,
   "metadata": {},
   "outputs": [
    {
     "name": "stdout",
     "output_type": "stream",
     "text": [
      "number:3000\n",
      "4 is length \n",
      "not armstrong number\n"
     ]
    }
   ],
   "source": [
    "    num = int(input(\"number:\"))\n",
    " \n",
    "    length = len(str(num))\n",
    "    print(length,\"is length \")\n",
    "    sum = 0\n",
    "    temp = num\n",
    " \n",
    "    while(temp != 0):\n",
    "        sum = sum + ((temp % 10) ** length)\n",
    "        temp = temp \n",
    " \n",
    "    if sum == num:\n",
    "        print(\"armstrong number\")  \n",
    "    else:\n",
    "        print(\"not armstrong number\")"
   ]
  },
  {
   "cell_type": "code",
   "execution_count": null,
   "metadata": {},
   "outputs": [
    {
     "name": "stdout",
     "output_type": "stream",
     "text": [
      "number:34\n",
      "1 is length \n",
      "1 is length \n",
      "1 armstrong number\n"
     ]
    }
   ],
   "source": [
    "num = int(input(\"number:\"))\n",
    "i=1 \n",
    "for i in range (0,num+1):\n",
    "    length = len(str(i))\n",
    "    print(length,\"is length \")\n",
    "    sum = 0\n",
    "    temp = i\n",
    "    while(temp != 0):\n",
    "            sum = sum + ((temp % 10) ** length)\n",
    "            temp = temp \n",
    "            if sum == i:\n",
    "                print(i,\"armstrong number\")  \n",
    "            #else:\n",
    "              #  print(\"not armstrong number\")\n",
    "        \n",
    "    i=i+1    "
   ]
  },
  {
   "cell_type": "code",
   "execution_count": null,
   "metadata": {
    "collapsed": true
   },
   "outputs": [],
   "source": [
    "from random import randrange\n",
    " while input (\"fsdf\")\n",
    "    print(randrange)"
   ]
  },
  {
   "cell_type": "markdown",
   "metadata": {
    "collapsed": true
   },
   "source": [
    "### \n"
   ]
  },
  {
   "cell_type": "code",
   "execution_count": 5,
   "metadata": {},
   "outputs": [
    {
     "name": "stdout",
     "output_type": "stream",
     "text": [
      "1\n",
      "2\n",
      "3\n",
      "4\n",
      "5\n",
      "6\n",
      "7\n",
      "8\n",
      "9\n",
      "10\n"
     ]
    }
   ],
   "source": [
    "l=[1,2,3,4,5,6,7,8,9,10]\n",
    "for i in l :\n",
    " print(i)"
   ]
  },
  {
   "cell_type": "code",
   "execution_count": 10,
   "metadata": {},
   "outputs": [
    {
     "name": "stdout",
     "output_type": "stream",
     "text": [
      "34\n",
      "34\n",
      "68\n",
      "102\n",
      "136\n",
      "170\n",
      "204\n",
      "238\n",
      "272\n",
      "306\n",
      "340\n"
     ]
    }
   ],
   "source": [
    "l=[1,2,3,4,5,6,7,8,9,10]\n",
    "n=int(input())\n",
    "for i in l :\n",
    " print(i*n)"
   ]
  },
  {
   "cell_type": "code",
   "execution_count": 11,
   "metadata": {},
   "outputs": [
    {
     "name": "stdout",
     "output_type": "stream",
     "text": [
      "d#$d#$d#$ #$d#$d#$d#$ #$d#$d#$ #$d#$d\n"
     ]
    }
   ],
   "source": [
    "s=\"ddd ddd dd dd\"\n",
    "x= '#$'.join(s)\n",
    "print(x)"
   ]
  },
  {
   "cell_type": "code",
   "execution_count": 16,
   "metadata": {},
   "outputs": [
    {
     "name": "stdout",
     "output_type": "stream",
     "text": [
      "one\n",
      "ee\n",
      "ff\n"
     ]
    }
   ],
   "source": [
    "d={'one':1,\n",
    "   'ee':2,\n",
    "   'ff':3,\n",
    "    \n",
    "    \n",
    "    \n",
    "    \n",
    "    \n",
    "    \n",
    "    \n",
    "}\n",
    "for var in d :\n",
    "    print(var)"
   ]
  },
  {
   "cell_type": "code",
   "execution_count": 17,
   "metadata": {},
   "outputs": [
    {
     "name": "stdout",
     "output_type": "stream",
     "text": [
      "{'one': 1, 'ee': 2, 'ff': 3}\n",
      "{'one': 1, 'ee': 2, 'ff': 3}\n",
      "{'one': 1, 'ee': 2, 'ff': 3}\n"
     ]
    }
   ],
   "source": [
    "d={'one':1,\n",
    "   'ee':2,\n",
    "   'ff':3,\n",
    "    \n",
    "    \n",
    "    \n",
    "    \n",
    "    \n",
    "    \n",
    "  }\n",
    "for var in d :\n",
    "    print(d)"
   ]
  },
  {
   "cell_type": "code",
   "execution_count": 18,
   "metadata": {},
   "outputs": [
    {
     "name": "stdout",
     "output_type": "stream",
     "text": [
      "1\n",
      "2\n",
      "3\n"
     ]
    }
   ],
   "source": [
    "d={'one':1,\n",
    "   'ee':2,\n",
    "   'ff':3,\n",
    "    \n",
    "    \n",
    "    \n",
    "    \n",
    "    \n",
    "    \n",
    "  }\n",
    "for key in d :\n",
    "    print(d[key])"
   ]
  },
  {
   "cell_type": "code",
   "execution_count": 19,
   "metadata": {},
   "outputs": [
    {
     "name": "stdout",
     "output_type": "stream",
     "text": [
      "dict_values([1, 2, 3])\n",
      "dict_values([1, 2, 3])\n",
      "dict_values([1, 2, 3])\n"
     ]
    }
   ],
   "source": [
    "d={'one':1,\n",
    "   'ee':2,\n",
    "   'ff':3,\n",
    "    \n",
    "    \n",
    "    \n",
    "    \n",
    "    \n",
    "    \n",
    "  }\n",
    "for var in d :\n",
    "    print(d.values())"
   ]
  },
  {
   "cell_type": "code",
   "execution_count": null,
   "metadata": {
    "collapsed": true
   },
   "outputs": [],
   "source": [
    "n=int(input())\n",
    "s=int(input())\n",
    "e=int(input())\n",
    "\n",
    "for i in range(s,e+1,1):\n",
    "    if(i%n==0):\n",
    "        print(i)\n",
    "      \n",
    "    \n",
    "    \n",
    " "
   ]
  },
  {
   "cell_type": "code",
   "execution_count": null,
   "metadata": {
    "collapsed": true
   },
   "outputs": [],
   "source": []
  },
  {
   "cell_type": "code",
   "execution_count": null,
   "metadata": {
    "collapsed": true
   },
   "outputs": [],
   "source": [
    "n=int(input())\n",
    "s=int(input())\n",
    "e=int(input())\n",
    "\n",
    "for i in range(s,e+1,1):\n",
    "    if(i%n!=0):\n",
    "        print(i)\n",
    "      \n",
    "    \n",
    "    \n",
    " "
   ]
  },
  {
   "cell_type": "code",
   "execution_count": 22,
   "metadata": {},
   "outputs": [
    {
     "ename": "SyntaxError",
     "evalue": "invalid syntax (<ipython-input-22-0b63430c119e>, line 1)",
     "output_type": "error",
     "traceback": [
      "\u001b[1;36m  File \u001b[1;32m\"<ipython-input-22-0b63430c119e>\"\u001b[1;36m, line \u001b[1;32m1\u001b[0m\n\u001b[1;33m    for i in range(-16,-18.2)\u001b[0m\n\u001b[1;37m                             ^\u001b[0m\n\u001b[1;31mSyntaxError\u001b[0m\u001b[1;31m:\u001b[0m invalid syntax\n"
     ]
    }
   ],
   "source": [
    "for i in range(-16,-18.2)\n",
    " print(i)"
   ]
  },
  {
   "cell_type": "code",
   "execution_count": 30,
   "metadata": {},
   "outputs": [
    {
     "name": "stdout",
     "output_type": "stream",
     "text": [
      "-100\n",
      "-99\n",
      "-98\n",
      "-97\n",
      "-96\n",
      "-95\n",
      "-94\n",
      "-93\n",
      "-92\n",
      "-91\n",
      "-90\n",
      "-89\n",
      "-88\n",
      "-87\n",
      "-86\n",
      "-85\n",
      "-84\n",
      "-83\n",
      "-82\n",
      "-81\n",
      "-80\n",
      "-79\n",
      "-78\n",
      "-77\n",
      "-76\n",
      "-75\n",
      "-74\n",
      "-73\n",
      "-72\n",
      "-71\n",
      "-70\n",
      "-69\n",
      "-68\n",
      "-67\n",
      "-66\n",
      "-65\n",
      "-64\n",
      "-63\n",
      "-62\n",
      "-61\n",
      "-60\n",
      "-59\n",
      "-58\n",
      "-57\n",
      "-56\n",
      "-55\n",
      "-54\n",
      "-53\n",
      "-52\n",
      "-51\n",
      "-50\n",
      "-49\n",
      "-48\n",
      "-47\n",
      "-46\n",
      "-45\n",
      "-44\n",
      "-43\n",
      "-42\n",
      "-41\n",
      "-40\n",
      "-39\n",
      "-38\n",
      "-37\n",
      "-36\n",
      "-35\n",
      "-34\n",
      "-33\n",
      "-32\n",
      "-31\n",
      "-30\n",
      "-29\n",
      "-28\n",
      "-27\n",
      "-26\n",
      "-25\n",
      "-24\n",
      "-23\n",
      "-22\n",
      "-21\n",
      "-20\n",
      "-19\n",
      "-18\n",
      "-17\n",
      "-16\n",
      "-15\n",
      "-14\n",
      "-13\n",
      "-12\n",
      "-11\n",
      "-10\n",
      "-9\n",
      "-8\n",
      "-7\n",
      "-6\n",
      "-5\n",
      "-4\n",
      "-3\n",
      "-2\n",
      "-1\n"
     ]
    }
   ],
   "source": [
    "for i in range(-100,0,1) :\n",
    " print (i)"
   ]
  },
  {
   "cell_type": "code",
   "execution_count": 35,
   "metadata": {},
   "outputs": [
    {
     "name": "stdout",
     "output_type": "stream",
     "text": [
      "-5\n",
      "-10\n",
      "-15\n",
      "-20\n",
      "-25\n",
      "-30\n",
      "-35\n",
      "-40\n",
      "-45\n",
      "-50\n",
      "-55\n",
      "-60\n",
      "-65\n",
      "-70\n",
      "-75\n",
      "-80\n",
      "-85\n",
      "-90\n",
      "-95\n",
      "-100\n"
     ]
    }
   ],
   "source": [
    "for i in range (-1,-101,-1) :\n",
    "    if(i%5==0):\n",
    " \n",
    "     print(i)"
   ]
  },
  {
   "cell_type": "code",
   "execution_count": null,
   "metadata": {
    "collapsed": true
   },
   "outputs": [],
   "source": [
    "bank = {\n",
    "         'u':['a','1','A',100],\n",
    "         'a':['b','2','B',1000  ],\n",
    "         'p':['c','3','C',2000 ],\n",
    "         'b':['d','4','D',20000],\n",
    "    \n",
    "    }\n",
    "user=input(\"user  \")\n",
    "acc=input(\"acc  \")\n",
    "password=input(\"password\")\n",
    "\n",
    "if(( user and acc and password) in( bank['u']  or   bank['a']  or  bank['p'] or  bank['b']  ) ) :\n",
    "#f(( user in bank['u'])   and( acc in bank['a'])and( password in bank['pa'])  or  ( password in bank['pa'])                 ):\n",
    "          \n",
    "        print(\"correct \")  \n",
    "        print(\"what do u wish to do a\")\n",
    "        print(\" deposit(press 1)\")\n",
    "        print(\"withdraw(press 2)\")\n",
    "        print(\"minibill(press 3)\")\n",
    "        print(\"password change(press 4)\")\n",
    "        \n",
    "        a=input()\n",
    "        \n",
    "        if a==\"1\" :\n",
    "            print(\"how much money do u want to deposit\")\n",
    "            b= int(input(\"enter monney to deposit\"))\n",
    "            h=bank['u'][3]\n",
    "            g=int(h)\n",
    "            print(g+b)\n",
    "\n",
    "            bank['u'][3]=g+b\n",
    "\n",
    "            print(bank['u'])\n",
    "        \n",
    "\n",
    "        \n",
    "        if a==\"2\" :        \n",
    "\n",
    "            print(\"how much money do u want to withdra\")\n",
    "            c=int(input(\"enter monney to wothdra\"))\n",
    "            print( bank['u'][3],\"is the intial amount\")\n",
    "            h=bank['u'][3]\n",
    "            g=int(h)\n",
    "            print(g-c)\n",
    "            bank['u'][3]=g-c\n",
    "            print(bank['u'])\n",
    "             \n",
    "            \n",
    "    \n",
    "        if a==\"3\" :                                \n",
    "\n",
    "            print(\"ur minibill statement is\")\n",
    "            print(user,\"is user name\")\n",
    "            print(acc,\"is acc name\")\n",
    "            print(bank['u'][3])\n",
    "                                                                                \n",
    "                             \n",
    "                \n",
    "        if a==\"4\" :\n",
    "            print(\"enter your new password\")\n",
    "            k=input()\n",
    "            print(k,\"s urnew password ,,ur updated bank details will be displayed soon\")\n",
    "            bank['u'][2]=k\n",
    "            print(bank['u'])\n",
    "                \n",
    "       \n",
    "        \n",
    "else :  print(\"wrong details..pls check again\")\n",
    "           "
   ]
  },
  {
   "cell_type": "code",
   "execution_count": 10,
   "metadata": {},
   "outputs": [
    {
     "name": "stdout",
     "output_type": "stream",
     "text": [
      "user  a\n",
      "acc  11\n",
      "password  A\n",
      "correct \n",
      "what do u wish to do a\n",
      " deposit(press 1)\n",
      "withdraw(press 2)\n",
      "minibill(press 3)\n",
      "password change(press 4)\n",
      "3\n",
      "ur minibill statement is\n",
      "a is user name\n",
      "11 is acc name\n",
      "100\n"
     ]
    }
   ],
   "source": [
    " bank = {\n",
    "         'a':[11,'A',100],\n",
    "         'b':[22,'B',1000],\n",
    "         'c':[33,'C',2000],\n",
    "         'd':[44,'D',20000],\n",
    "         'admin':[55,'E',0]\n",
    "    }\n",
    "   \n",
    "\n",
    "\n",
    "\n",
    "user=input(\"user  \")\n",
    "acc=int(input(\"acc  \"))\n",
    "password=input(\"password  \")\n",
    "\n",
    "if user=='admin' and acc==55 and password==\"E\" :\n",
    "          print(\"the bank acc are\")\n",
    "          print(bank)\n",
    "            \n",
    "\n",
    "\n",
    "\n",
    "if ((user in bank) and  ((acc and password) in( bank[user] ) ) ) :\n",
    "#f(( user in bank['u'])   and( acc in bank['a'])and( password in bank['pa'])  or  ( password in bank['pa'])                 ):\n",
    "          \n",
    "        print(\"correct \")  \n",
    "        print(\"what do u wish to do a\")\n",
    "        print(\" deposit(press 1)\")\n",
    "        print(\"withdraw(press 2)\")\n",
    "        print(\"minibill(press 3)\")\n",
    "        print(\"password change(press 4)\")\n",
    "       \n",
    "        \n",
    "        \n",
    "        a=input()\n",
    "        \n",
    "        if a==\"1\" :\n",
    "            print(\"how much money do u want to deposit\")\n",
    "            b= int(input(\"enter monney to deposit\"))\n",
    "            h=bank[user][2]\n",
    "            g=int(h)\n",
    "            print(g+b)\n",
    "\n",
    "            bank[user][2]=g+b\n",
    "\n",
    "            print(bank[user])\n",
    "        \n",
    "\n",
    "        \n",
    "        if a==\"2\" :        \n",
    "\n",
    "            print(\"how much money do u want to withdra\")\n",
    "            c=int(input(\"enter monney to wothdra\"))\n",
    "            print( bank[user][2],\"is the intial amount\")\n",
    "            h=bank[user][2]\n",
    "            g=int(h)\n",
    "            if c<g :\n",
    "                print(g-c)\n",
    "                bank[user][2]=g-c\n",
    "                print(bank[user])\n",
    "            else:print(g,\"this is your balance dont withdraw above bal\") \n",
    "            \n",
    "    \n",
    "        if a==\"3\" :                                \n",
    "\n",
    "            print(\"ur minibill statement is\")\n",
    "            print(user,\"is user name\")\n",
    "            print(acc,\"is acc name\")\n",
    "            print(bank[user][2])\n",
    "                                                                                \n",
    "                             \n",
    "                \n",
    "        if a==\"4\" :\n",
    "            print(\"enter your new password\")\n",
    "            k=input()\n",
    "            print(k,\"s urnew password ,,ur updated bank details will be displayed soon\")\n",
    "            bank[user][1]=k\n",
    "            print(bank[user])\n",
    "        \n",
    "        \n",
    "        \n",
    "        \n",
    "        \n",
    "        \n",
    "\n",
    "else :  print(\"wrong details..pls check again\")\n",
    "     "
   ]
  },
  {
   "cell_type": "code",
   "execution_count": null,
   "metadata": {
    "collapsed": true
   },
   "outputs": [],
   "source": [
    "l=[]\n",
    "n=int(input())\n",
    "i=1\n",
    "while i<=n :\n",
    "    c=int(input())\n",
    "    l.append(c)\n",
    "    \n",
    "    i +=1\n",
    "print(l)"
   ]
  },
  {
   "cell_type": "markdown",
   "metadata": {},
   "source": [
    "### "
   ]
  },
  {
   "cell_type": "code",
   "execution_count": null,
   "metadata": {
    "collapsed": true
   },
   "outputs": [],
   "source": [
    "import math\n",
    "num=int(input())\n",
    "end=int(math.sqrt(num))+1\n",
    "start =2\n",
    "while start <=end :\n",
    "            if num % start == 0 :\n",
    "                            print(\"not prime\")\n",
    "                            break\n",
    "                            start +=1\n",
    "            else:\n",
    "                            print(\"prime\")\n",
    "                            break\n"
   ]
  },
  {
   "cell_type": "code",
   "execution_count": 15,
   "metadata": {},
   "outputs": [
    {
     "name": "stdout",
     "output_type": "stream",
     "text": [
      "*\n",
      "**\n",
      "***\n",
      "****\n",
      "*****\n",
      "******\n",
      "*******\n",
      "********\n",
      "*********\n"
     ]
    }
   ],
   "source": [
    "for i in range(1,10):\n",
    "    for j in range(1,i+1):\n",
    "        print(\"*\",end='')\n",
    "    print(\"\")"
   ]
  },
  {
   "cell_type": "code",
   "execution_count": 19,
   "metadata": {},
   "outputs": [
    {
     "name": "stdout",
     "output_type": "stream",
     "text": [
      "########\n",
      "#######\n",
      "######\n",
      "#####\n",
      "####\n",
      "###\n",
      "##\n",
      "#\n",
      "\n"
     ]
    }
   ],
   "source": [
    "for i in range(1,10):\n",
    "    for j in range(10,i+1,-1):\n",
    "        print(\"#\",end='')\n",
    "    print(\"\")"
   ]
  },
  {
   "cell_type": "markdown",
   "metadata": {
    "collapsed": true
   },
   "source": [
    "# file handling\n",
    "byte file(binary)\n",
    "text file(fixed unicode ->(ascii,utf 8) \n",
    "\n",
    "we use open function to open a file \n",
    "open(file name,mode,buffer size)\n",
    "\n",
    "there are three modes read, write, append\n",
    "\n",
    "read mode 4 options::\n",
    "1)'r'\n",
    "\n",
    "2)'r+' read and write\n",
    "\n",
    "3)'rb' just like r ,,but we use for byte file\n",
    "\n",
    "4)'rb+' byte file ko read and write\n",
    "\n",
    "\n",
    "write mode::   *if no file then new file will be created\n",
    "1) 'w'\n",
    "2) 'w+'\n",
    "3) 'wb'\n",
    "4) 'wb+'\n",
    "\n",
    "**obsiviously use read ony when the file exist ,,else error will occur\n",
    "\n",
    "\n",
    "\n",
    "append mode\n",
    "1)'a'\n",
    "2)'a+'\n",
    "3)'ab'\n",
    "4)'ab+'\n",
    "\n",
    "\n",
    "\n",
    "\n",
    "\n",
    "\n",
    "\n",
    "\n",
    "\n",
    "\n",
    "\n",
    "\n",
    "\n"
   ]
  },
  {
   "cell_type": "code",
   "execution_count": 55,
   "metadata": {
    "collapsed": true
   },
   "outputs": [],
   "source": [
    "f=open(\"C:\\\\users\\\\mintu\\\\desktop\\\\hello1.txt\",'w')"
   ]
  },
  {
   "cell_type": "code",
   "execution_count": 29,
   "metadata": {},
   "outputs": [
    {
     "name": "stdout",
     "output_type": "stream",
     "text": [
      "['_CHUNK_SIZE', '__class__', '__del__', '__delattr__', '__dict__', '__dir__', '__doc__', '__enter__', '__eq__', '__exit__', '__format__', '__ge__', '__getattribute__', '__getstate__', '__gt__', '__hash__', '__init__', '__init_subclass__', '__iter__', '__le__', '__lt__', '__ne__', '__new__', '__next__', '__reduce__', '__reduce_ex__', '__repr__', '__setattr__', '__sizeof__', '__str__', '__subclasshook__', '_checkClosed', '_checkReadable', '_checkSeekable', '_checkWritable', '_finalizing', 'buffer', 'close', 'closed', 'detach', 'encoding', 'errors', 'fileno', 'flush', 'isatty', 'line_buffering', 'mode', 'name', 'newlines', 'read', 'readable', 'readline', 'readlines', 'seek', 'seekable', 'tell', 'truncate', 'writable', 'write', 'writelines']\n"
     ]
    }
   ],
   "source": [
    "print(dir(f))"
   ]
  },
  {
   "cell_type": "code",
   "execution_count": 30,
   "metadata": {},
   "outputs": [
    {
     "name": "stdout",
     "output_type": "stream",
     "text": [
      "C:\\users\\mintu\\desktop\\hello.txt\n",
      "w\n"
     ]
    }
   ],
   "source": [
    "print(f.name)\n",
    "print(f.mode)"
   ]
  },
  {
   "cell_type": "code",
   "execution_count": 56,
   "metadata": {},
   "outputs": [
    {
     "name": "stdout",
     "output_type": "stream",
     "text": [
      "False\n",
      "True\n",
      "True\n"
     ]
    }
   ],
   "source": [
    "print(f.readable())\n",
    "print(f.writable())\n",
    "print(f.seekable())"
   ]
  },
  {
   "cell_type": "code",
   "execution_count": 61,
   "metadata": {},
   "outputs": [
    {
     "ename": "ValueError",
     "evalue": "I/O operation on closed file.",
     "output_type": "error",
     "traceback": [
      "\u001b[1;31m---------------------------------------------------------------------------\u001b[0m",
      "\u001b[1;31mValueError\u001b[0m                                Traceback (most recent call last)",
      "\u001b[1;32m<ipython-input-61-a85c02b38bc5>\u001b[0m in \u001b[0;36m<module>\u001b[1;34m()\u001b[0m\n\u001b[1;32m----> 1\u001b[1;33m \u001b[0mprint\u001b[0m\u001b[1;33m(\u001b[0m\u001b[0mf\u001b[0m\u001b[1;33m.\u001b[0m\u001b[0mwrite\u001b[0m\u001b[1;33m(\u001b[0m\u001b[1;34m\"hello is de gjj\"\u001b[0m\u001b[1;33m)\u001b[0m\u001b[1;33m)\u001b[0m\u001b[1;33m\u001b[0m\u001b[0m\n\u001b[0m\u001b[0;32m      2\u001b[0m \u001b[0mf\u001b[0m\u001b[1;33m.\u001b[0m\u001b[0mclose\u001b[0m\u001b[1;33m(\u001b[0m\u001b[1;33m)\u001b[0m\u001b[1;33m\u001b[0m\u001b[0m\n",
      "\u001b[1;31mValueError\u001b[0m: I/O operation on closed file."
     ]
    }
   ],
   "source": [
    "print(f.write(\"hello is de gjj\"))\n",
    "f.close()"
   ]
  },
  {
   "cell_type": "code",
   "execution_count": 62,
   "metadata": {},
   "outputs": [
    {
     "ename": "UnsupportedOperation",
     "evalue": "not readable",
     "output_type": "error",
     "traceback": [
      "\u001b[1;31m---------------------------------------------------------------------------\u001b[0m",
      "\u001b[1;31mUnsupportedOperation\u001b[0m                      Traceback (most recent call last)",
      "\u001b[1;32m<ipython-input-62-0d54e7b2df1b>\u001b[0m in \u001b[0;36m<module>\u001b[1;34m()\u001b[0m\n\u001b[0;32m      1\u001b[0m \u001b[0mf\u001b[0m\u001b[1;33m=\u001b[0m\u001b[0mopen\u001b[0m\u001b[1;33m(\u001b[0m\u001b[1;34m\"C:\\\\users\\\\mintu\\\\desktop\\\\hello.txt\"\u001b[0m\u001b[1;33m,\u001b[0m\u001b[1;34m'w'\u001b[0m\u001b[1;33m)\u001b[0m\u001b[1;33m\u001b[0m\u001b[0m\n\u001b[0;32m      2\u001b[0m \u001b[1;31m#f.write(\"fdfs\")\u001b[0m\u001b[1;33m\u001b[0m\u001b[1;33m\u001b[0m\u001b[0m\n\u001b[1;32m----> 3\u001b[1;33m \u001b[0mprint\u001b[0m\u001b[1;33m(\u001b[0m\u001b[0mf\u001b[0m\u001b[1;33m.\u001b[0m\u001b[0mread\u001b[0m\u001b[1;33m(\u001b[0m\u001b[1;33m)\u001b[0m\u001b[1;33m)\u001b[0m\u001b[1;33m\u001b[0m\u001b[0m\n\u001b[0m\u001b[0;32m      4\u001b[0m \u001b[0mprint\u001b[0m\u001b[1;33m(\u001b[0m\u001b[0mf\u001b[0m\u001b[1;33m.\u001b[0m\u001b[0mreadline\u001b[0m\u001b[1;33m(\u001b[0m\u001b[1;33m)\u001b[0m\u001b[1;33m)\u001b[0m\u001b[1;33m\u001b[0m\u001b[0m\n",
      "\u001b[1;31mUnsupportedOperation\u001b[0m: not readable"
     ]
    }
   ],
   "source": [
    "f=open(\"C:\\\\users\\\\mintu\\\\desktop\\\\hello.txt\",'w')\n",
    "#f.write(\"fdfs\")\n",
    "print(f.read())\n",
    "print(f.readline())"
   ]
  },
  {
   "cell_type": "code",
   "execution_count": 65,
   "metadata": {},
   "outputs": [
    {
     "name": "stdout",
     "output_type": "stream",
     "text": [
      "*\n",
      "**\n",
      "***\n",
      "****\n",
      "*****\n"
     ]
    }
   ],
   "source": [
    "for i in range (1,6):  \n",
    "    for j in range (1,i+1):  \n",
    "        print(\"*\",end='') \n",
    "    \n",
    "    print(\"\")\n"
   ]
  },
  {
   "cell_type": "code",
   "execution_count": 66,
   "metadata": {},
   "outputs": [
    {
     "name": "stdout",
     "output_type": "stream",
     "text": [
      "1\n",
      "22\n",
      "333\n",
      "4444\n",
      "55555\n"
     ]
    }
   ],
   "source": [
    "a=1\n",
    "for i in range (1,6):  \n",
    "    for j in range (1,i+1):  \n",
    "        print(a,end='') \n",
    "    \n",
    "    a=a+1\n",
    "    print(\"\")\n"
   ]
  },
  {
   "cell_type": "code",
   "execution_count": 67,
   "metadata": {},
   "outputs": [
    {
     "name": "stdout",
     "output_type": "stream",
     "text": [
      "1\n",
      "23\n",
      "456\n",
      "78910\n",
      "1112131415\n"
     ]
    }
   ],
   "source": [
    "a=1\n",
    "for i in range (1,6):  \n",
    "    for j in range (1,i+1):  \n",
    "        print(a,end='') \n",
    "        a=a+1\n",
    "    print(\"\")\n"
   ]
  },
  {
   "cell_type": "code",
   "execution_count": 72,
   "metadata": {},
   "outputs": [
    {
     "name": "stdout",
     "output_type": "stream",
     "text": [
      "1\n",
      "12\n",
      "123\n",
      "1234\n",
      "12345\n"
     ]
    }
   ],
   "source": [
    "\n",
    "for i in range (1,6):  \n",
    "    for j in range (1,i+1):  \n",
    "        print(j,end='') \n",
    "        \n",
    "        \n",
    "    print(\"\")\n"
   ]
  },
  {
   "cell_type": "code",
   "execution_count": null,
   "metadata": {
    "collapsed": true
   },
   "outputs": [],
   "source": []
  },
  {
   "cell_type": "code",
   "execution_count": null,
   "metadata": {
    "collapsed": true
   },
   "outputs": [],
   "source": []
  },
  {
   "cell_type": "code",
   "execution_count": null,
   "metadata": {
    "collapsed": true
   },
   "outputs": [],
   "source": []
  },
  {
   "cell_type": "code",
   "execution_count": null,
   "metadata": {
    "collapsed": true
   },
   "outputs": [],
   "source": []
  },
  {
   "cell_type": "code",
   "execution_count": null,
   "metadata": {
    "collapsed": true
   },
   "outputs": [],
   "source": []
  },
  {
   "cell_type": "code",
   "execution_count": null,
   "metadata": {
    "collapsed": true
   },
   "outputs": [],
   "source": []
  },
  {
   "cell_type": "markdown",
   "metadata": {},
   "source": [
    "# fn"
   ]
  },
  {
   "cell_type": "markdown",
   "metadata": {},
   "source": [
    "# set of statementd that are given to perform specific task.."
   ]
  },
  {
   "cell_type": "code",
   "execution_count": null,
   "metadata": {
    "collapsed": true
   },
   "outputs": [],
   "source": [
    "def func name(arg):\n",
    "    s1\n",
    "    s2"
   ]
  },
  {
   "cell_type": "code",
   "execution_count": null,
   "metadata": {
    "collapsed": true
   },
   "outputs": [],
   "source": [
    "def hello():\n",
    "    name=input()\n"
   ]
  },
  {
   "cell_type": "code",
   "execution_count": 80,
   "metadata": {},
   "outputs": [
    {
     "ename": "SyntaxError",
     "evalue": "invalid syntax (<ipython-input-80-5def30c30951>, line 12)",
     "output_type": "error",
     "traceback": [
      "\u001b[1;36m  File \u001b[1;32m\"<ipython-input-80-5def30c30951>\"\u001b[1;36m, line \u001b[1;32m12\u001b[0m\n\u001b[1;33m    name:h\u001b[0m\n\u001b[1;37m       ^\u001b[0m\n\u001b[1;31mSyntaxError\u001b[0m\u001b[1;31m:\u001b[0m invalid syntax\n"
     ]
    }
   ],
   "source": [
    "p = input()\n",
    "q=input()\n",
    "r=input()\n",
    "s=input()\n",
    "\n",
    "def hello(p,q,r,s):\n",
    "l=[p,q,r,s]  \n",
    "d=dict(l)\n",
    "return d\n",
    "        \n",
    "    \n",
    "\n",
    "        "
   ]
  },
  {
   "cell_type": "code",
   "execution_count": null,
   "metadata": {
    "collapsed": true
   },
   "outputs": [],
   "source": []
  },
  {
   "cell_type": "code",
   "execution_count": null,
   "metadata": {
    "collapsed": true
   },
   "outputs": [],
   "source": []
  },
  {
   "cell_type": "code",
   "execution_count": null,
   "metadata": {
    "collapsed": true
   },
   "outputs": [],
   "source": []
  },
  {
   "cell_type": "code",
   "execution_count": null,
   "metadata": {
    "collapsed": true
   },
   "outputs": [],
   "source": []
  },
  {
   "cell_type": "code",
   "execution_count": null,
   "metadata": {
    "collapsed": true
   },
   "outputs": [],
   "source": []
  },
  {
   "cell_type": "code",
   "execution_count": null,
   "metadata": {
    "collapsed": true
   },
   "outputs": [],
   "source": []
  },
  {
   "cell_type": "code",
   "execution_count": null,
   "metadata": {
    "collapsed": true
   },
   "outputs": [],
   "source": []
  },
  {
   "cell_type": "code",
   "execution_count": null,
   "metadata": {
    "collapsed": true
   },
   "outputs": [],
   "source": []
  },
  {
   "cell_type": "code",
   "execution_count": null,
   "metadata": {
    "collapsed": true
   },
   "outputs": [],
   "source": []
  },
  {
   "cell_type": "code",
   "execution_count": null,
   "metadata": {
    "collapsed": true
   },
   "outputs": [],
   "source": []
  },
  {
   "cell_type": "code",
   "execution_count": null,
   "metadata": {
    "collapsed": true
   },
   "outputs": [],
   "source": []
  },
  {
   "cell_type": "code",
   "execution_count": null,
   "metadata": {
    "collapsed": true
   },
   "outputs": [],
   "source": []
  },
  {
   "cell_type": "code",
   "execution_count": null,
   "metadata": {
    "collapsed": true
   },
   "outputs": [],
   "source": []
  },
  {
   "cell_type": "code",
   "execution_count": null,
   "metadata": {
    "collapsed": true
   },
   "outputs": [],
   "source": []
  },
  {
   "cell_type": "code",
   "execution_count": null,
   "metadata": {
    "collapsed": true
   },
   "outputs": [],
   "source": []
  },
  {
   "cell_type": "code",
   "execution_count": null,
   "metadata": {
    "collapsed": true
   },
   "outputs": [],
   "source": []
  },
  {
   "cell_type": "code",
   "execution_count": null,
   "metadata": {
    "collapsed": true
   },
   "outputs": [],
   "source": []
  },
  {
   "cell_type": "code",
   "execution_count": null,
   "metadata": {
    "collapsed": true
   },
   "outputs": [],
   "source": [
    "import json\n",
    "from getpass import getpass\n",
    "bank = { \n",
    "        'user' : [ 'ram', 'sam','vijay' ],\n",
    "        'acc' : [ 1001, 1002, 1003 ],\n",
    "        'password' : [ 'grras@123', 'something', 'redhat'],\n",
    "        'balance' : [ 10000.23, 20000.45, 124322.234]\n",
    "        }\n",
    "admin = 'root'\n",
    "admin_password = 'redhat@123'\n",
    "f=open(\"bank.txt\",\"w\")\n",
    "json.dump(bank,f)\n",
    "f.close()\n",
    "while True :\n",
    "    \n",
    "    print(\"\\n\\n\")\n",
    "    print(\"*\"*50)\n",
    "    print(\"Welcome to Python Bank\")\n",
    "    print(\"*\"*50)\n",
    "    print(\"\\n\\n1. Login \\n2. Signup \\n3. Admin \\n4. Exit\")\n",
    "    ch = int(input(\"Your Choice : \"))\n",
    "    \n",
    "    if ch == 1 :\n",
    "        print(\"\\n\\n\")\n",
    "        uacc = int(input(\"Acc Number : \"))\n",
    "        if uacc in bank['acc'] :\n",
    "            upass = getpass(\"Password : \")\n",
    "            index = bank['acc'].index(uacc)\n",
    "            if upass == bank['password'][index]:\n",
    "                while True :\n",
    "                    print(\"\\n\\n1. Debit\\n2. Credit\\n3. Check Balance\\n4. Change Password \\n5. Logout\")\n",
    "                    ch = int(input(\"Choice : \"))\n",
    "                    if ch == 1 :\n",
    "                        ab=bank['balance'][index]\n",
    "                        print(\"\\n \\nAvailable balance : \",ab)\n",
    "                        da=int(input(\"\\nenter the amount to debit : \"))\n",
    "                        if da<=ab:\n",
    "                            print(\"\\ncollect your cash\")\n",
    "                            ab=ab-da\n",
    "                            print(\"\\nAvailable balance after withdrawl: \",ab)\n",
    "                            \n",
    "                        else:\n",
    "                            print(\"\\n insufficient balance\")\n",
    "                            break\n",
    "                        \n",
    "                    elif ch == 2 :\n",
    "                        ca=int(input(\"\\nEnter the amount you want to credit : \"))\n",
    "                        bank['balance'][index] += ca\n",
    "                        print(\"\\nAccount balance after crediting money : \",bank['balance'][index])\n",
    "                \n",
    "                    elif ch == 3:\n",
    "                        print(\"\\nYour Account balance is : \",bank['balance'][index])                        \n",
    "                    elif ch == 4 : \n",
    "                        op=getpass(\"\\n enter your old password : \")\n",
    "                        pp=bank['password'][index]\n",
    "                        if op==pp:\n",
    "                            np=getpass(\"\\n enter new password : \")\n",
    "                            cp=getpass(\"\\n confirn new password : \")\n",
    "                            if np==cp:\n",
    "                                bank['password'][index] = np\n",
    "                                print(\"\\n password changed successfully : \")\n",
    "                                f=open(\"bank.txt\",\"w\")\n",
    "                                t=str(bank)\n",
    "                                f.write(t)\n",
    "                                json.dump(bank,f)\n",
    "                                f.close()\n",
    "                            else:\n",
    "                                print(\"\\n password do not match, Try again : \")\n",
    "                        else:\n",
    "                            print(\"\\n Old password do not match : \")\n",
    "                    elif ch == 5 :\n",
    "                        print(\"\\nLogging you out.....\\n\")\n",
    "                        break\n",
    "                    else :\n",
    "                        print(\"\\n\\nInvalid Choice \")\n",
    "                        print(\"Try Again\")\n",
    "            else :\n",
    "                print(\"\\n\\nInvalid Password\\n\\nTry Again\")\n",
    "            \n",
    "        else :\n",
    "            print(\"\\n\\nNo such Account Exists \\nYou should signup\\n\\n\")\n",
    "    elif ch == 2 :\n",
    "        acc = bank['acc'][-1] + 1\n",
    "        name = input(\"Username : \")\n",
    "        bal = float(input(\"Initial Blance : \"))\n",
    "        password = getpass(\"Set Password : \")\n",
    "        bank['user'].append(name)\n",
    "        bank['acc'].append(acc)\n",
    "        bank['password'].append(password)\n",
    "        bank['balance'].append(bal)\n",
    "        print(\"\\nAccount Sucessfully Created\")\n",
    "        print(\"Note down your account num :  {}\".format(acc))\n",
    "        f=open(\"bank.txt\",\"w\")\n",
    "        json.dump(bank,f)\n",
    "        f.close()\n",
    "        print(\"Now you can login\\n\")\n",
    "    elif ch == 3 :\n",
    "        username = input(\"\\nEnter name : \").strip().lower()\n",
    "        password = getpass()\n",
    "        if username == admin : \n",
    "            if password == admin_password :\n",
    "                print()\n",
    "                f=open(\"bank.txt\",\"r\")\n",
    "                f.seek(0)\n",
    "                data=f.read()\n",
    "                print(data)\n",
    "                f.close()\n",
    "            else :\n",
    "                print(\"\\nInvalid password \\nTry Again\")\n",
    "        else :\n",
    "            print(\"\\nThis user is not an admin.\")\n",
    "    elif ch == 4 :\n",
    "        ch = input(\"\\n\\nDo really want to exit ? (y/n) : \").strip().lower()\n",
    "        if ch == 'y' or ch == 'yes' :      \n",
    "            print(\"\\nThanks for useing our services \")\n",
    "            break\n",
    "    else :\n",
    "        print(\"\\nInvalidChoice\\nTry again\")"
   ]
  },
  {
   "cell_type": "code",
   "execution_count": 4,
   "metadata": {},
   "outputs": [
    {
     "name": "stdout",
     "output_type": "stream",
     "text": [
      "13\n",
      "13\n",
      "* \n",
      "\n",
      "    \n",
      "\n",
      "    \n",
      "\n",
      "    \n",
      "\n",
      "    \n",
      "\n",
      "    \n",
      "\n",
      "  * \n",
      "\n",
      "  * \n",
      "\n",
      "  * \n",
      "\n",
      "  * \n",
      "\n",
      "  * \n",
      "\n",
      "  * \n",
      "\n",
      "  * \n",
      "\n",
      "    \n",
      "\n",
      "    \n",
      "\n",
      "    \n",
      "\n",
      "    \n",
      "\n",
      "    \n",
      "\n",
      "    \n",
      "\n",
      "    \n",
      "\n",
      "    \n",
      "\n",
      "    \n",
      "\n",
      "    \n",
      "\n",
      "    \n",
      "\n",
      "    \n",
      "\n",
      "    \n",
      "\n",
      "    \n",
      "\n",
      "    \n",
      "\n",
      "    \n",
      "\n",
      "    \n",
      "\n",
      "    \n",
      "\n",
      "    \n",
      "\n",
      "    \n",
      "\n",
      "    \n",
      "\n",
      "    \n",
      "\n",
      "    \n",
      "\n",
      "    \n",
      "\n",
      "    \n",
      "\n",
      "    \n",
      "\n",
      "    \n",
      "\n",
      "    \n",
      "\n",
      "    \n",
      "\n",
      "    \n",
      "\n",
      "    \n",
      "\n",
      "    \n",
      "\n",
      "    \n",
      "\n",
      "    \n",
      "\n",
      "    \n",
      "\n",
      "    \n",
      "\n",
      "    \n",
      "\n",
      "    \n",
      "\n",
      "    \n",
      "\n",
      "    \n",
      "\n",
      "*\n",
      "\n",
      "\n",
      "  \n",
      "\n",
      "    \n",
      "\n",
      "    \n",
      "\n",
      "    \n",
      "\n",
      "    \n",
      "\n",
      "    \n",
      "\n",
      "    \n",
      "\n",
      "    \n",
      "\n",
      "    \n",
      "\n",
      "    \n",
      "\n",
      "    \n",
      "\n",
      "    \n",
      "\n",
      "    \n",
      "\n",
      "    \n",
      "\n",
      "    \n",
      "\n",
      "    \n",
      "\n",
      "    \n",
      "\n",
      "    \n",
      "\n",
      "    \n",
      "\n",
      "    \n",
      "\n",
      "    \n",
      "\n",
      "    \n",
      "\n",
      "    \n",
      "\n",
      "    \n",
      "\n",
      "    \n",
      "\n",
      "    \n",
      "\n",
      "    \n",
      "\n",
      "    \n",
      "\n",
      "    \n",
      "\n",
      "    \n",
      "\n",
      "    \n",
      "\n",
      "    \n",
      "\n",
      "    \n",
      "\n",
      "    \n",
      "\n",
      "    \n",
      "\n",
      "    \n",
      "\n",
      "    \n",
      "\n",
      "    \n",
      "\n",
      "    \n",
      "\n",
      "    \n",
      "\n",
      "    \n",
      "\n",
      "    \n",
      "\n",
      "    \n",
      "\n",
      "    \n",
      "\n",
      "    \n",
      "\n",
      "    \n",
      "\n",
      "    \n",
      "\n",
      "    \n",
      "\n",
      "    \n",
      "\n",
      "    \n",
      "\n",
      "    \n",
      "\n",
      "    \n",
      "\n",
      "    \n",
      "\n",
      "    \n",
      "\n",
      "    \n",
      "\n",
      "    \n",
      "\n",
      "    \n",
      "\n",
      "    \n",
      "\n",
      "    \n",
      "\n",
      "    \n",
      "\n",
      "    \n",
      "\n",
      "    \n",
      "\n",
      "    \n",
      "\n",
      "    \n",
      "\n",
      "    \n",
      "\n",
      "    \n",
      "\n",
      "    \n",
      "\n",
      "    \n",
      "\n",
      "    \n",
      "\n",
      "    \n",
      "\n",
      "    \n",
      "\n",
      "    \n",
      "\n",
      "    \n",
      "\n",
      "    \n",
      "\n",
      "    \n",
      "\n",
      "    \n",
      "\n",
      "    \n",
      "\n",
      "    \n",
      "\n",
      "    \n",
      "\n",
      "    \n",
      "\n",
      "    \n",
      "\n",
      "    \n",
      "\n",
      "    \n",
      "\n",
      "    \n",
      "\n",
      "    \n",
      "\n",
      "    \n",
      "\n",
      "    \n",
      "\n",
      "    \n",
      "\n",
      "    \n",
      "\n",
      "    \n",
      "\n",
      "    \n",
      "\n",
      "    \n",
      "\n",
      "    \n",
      "\n",
      "    \n",
      "\n",
      "    \n",
      "\n",
      "    \n",
      "\n",
      "    \n",
      "\n",
      "    \n",
      "\n",
      "    \n",
      "\n",
      "    \n",
      "\n",
      "    \n",
      "\n",
      "    \n",
      "\n",
      "    \n",
      "\n",
      "    \n",
      "\n",
      "    \n",
      "\n",
      "    \n",
      "\n",
      "    \n",
      "\n",
      "    \n",
      "\n",
      "    \n",
      "\n",
      "    \n",
      "\n",
      "    \n",
      "\n",
      "    \n",
      "\n",
      "    \n",
      "\n",
      "    \n",
      "\n",
      "    \n",
      "\n",
      "    \n",
      "\n",
      "  "
     ]
    }
   ],
   "source": [
    "r=int(input())\n",
    "c=int(input())\n",
    "for i in range (1,c+1) :\n",
    "    for j in range (1,r+1):\n",
    "            if ((i==1 and j==1) or (i==1 and j in range(7,14))):\n",
    "                       print(\"*\",end=\" \") \n",
    "                       \n",
    "                      \n",
    "           \n",
    "            \n",
    "            else:print(\" \",end=\" \")\n",
    "            print(\"\\n\")  \n",
    "            if(i==5and j==1):\n",
    "                       print(\"*\")\n",
    "                       print(\"\\n\")\n",
    "            else:print(\" \",end=\" \")\n",
    "                      \n",
    "           \n",
    "                \n",
    "                \n",
    "            #lif (i==7 and(j in range(1,14))):\n",
    "             #         print(\"*\",end=\" \") \n",
    "                      \n",
    "            \n",
    "                \n",
    "            \n",
    "                   \n",
    "            #lif ((i==1 and j==1) or (i==1 and j in range(7,14))):\n",
    "             #         print(\"*\",end=\" \") \n",
    "                      \n",
    "           \n",
    "            \n",
    "            \n",
    "                    \n",
    "                          \n",
    "             \n",
    "\n",
    "            \n",
    "            \n",
    "            \n",
    "            "
   ]
  },
  {
   "cell_type": "code",
   "execution_count": 3,
   "metadata": {},
   "outputs": [
    {
     "ename": "SyntaxError",
     "evalue": "invalid syntax (<ipython-input-3-6c3a3ea81de7>, line 1)",
     "output_type": "error",
     "traceback": [
      "\u001b[1;36m  File \u001b[1;32m\"<ipython-input-3-6c3a3ea81de7>\"\u001b[1;36m, line \u001b[1;32m1\u001b[0m\n\u001b[1;33m    fn continueeee..\u001b[0m\n\u001b[1;37m                 ^\u001b[0m\n\u001b[1;31mSyntaxError\u001b[0m\u001b[1;31m:\u001b[0m invalid syntax\n"
     ]
    }
   ],
   "source": [
    "fn continueeee.."
   ]
  },
  {
   "cell_type": "markdown",
   "metadata": {
    "collapsed": true
   },
   "source": [
    "13### def "
   ]
  },
  {
   "cell_type": "code",
   "execution_count": null,
   "metadata": {
    "collapsed": true
   },
   "outputs": [],
   "source": []
  },
  {
   "cell_type": "code",
   "execution_count": null,
   "metadata": {
    "collapsed": true
   },
   "outputs": [],
   "source": []
  },
  {
   "cell_type": "code",
   "execution_count": null,
   "metadata": {
    "collapsed": true
   },
   "outputs": [],
   "source": []
  },
  {
   "cell_type": "code",
   "execution_count": null,
   "metadata": {
    "collapsed": true
   },
   "outputs": [],
   "source": []
  },
  {
   "cell_type": "code",
   "execution_count": null,
   "metadata": {
    "collapsed": true
   },
   "outputs": [],
   "source": []
  },
  {
   "cell_type": "code",
   "execution_count": null,
   "metadata": {
    "collapsed": true
   },
   "outputs": [],
   "source": []
  },
  {
   "cell_type": "code",
   "execution_count": null,
   "metadata": {
    "collapsed": true
   },
   "outputs": [],
   "source": []
  },
  {
   "cell_type": "code",
   "execution_count": null,
   "metadata": {
    "collapsed": true
   },
   "outputs": [],
   "source": []
  },
  {
   "cell_type": "code",
   "execution_count": null,
   "metadata": {
    "collapsed": true
   },
   "outputs": [],
   "source": []
  }
 ],
 "metadata": {
  "kernelspec": {
   "display_name": "Python 3",
   "language": "python",
   "name": "python3"
  },
  "language_info": {
   "codemirror_mode": {
    "name": "ipython",
    "version": 3
   },
   "file_extension": ".py",
   "mimetype": "text/x-python",
   "name": "python",
   "nbconvert_exporter": "python",
   "pygments_lexer": "ipython3",
   "version": "3.6.3"
  }
 },
 "nbformat": 4,
 "nbformat_minor": 2
}
